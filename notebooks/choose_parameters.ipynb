{
 "cells": [
  {
   "cell_type": "markdown",
   "id": "c25aad0b-650b-451b-b26d-3a118939caab",
   "metadata": {},
   "source": [
    "To detect movements in a video, we use background subtraction. There are many different background subtraction algorithms, and each algorithm has various parameters. You can use the default parameter settings in Birdwatcher, but you can also modify the parameters and optimize these for your own videos.\n",
    "\n",
    "This notebook can be used to play around with all options and various parameters settings of background subtraction algorithms when using Birdwatcher for movement detection, and see how this influences the results of location detection."
   ]
  },
  {
   "cell_type": "code",
   "execution_count": null,
   "id": "bbf1bc75-f463-48ff-b040-42acf78b1f9c",
   "metadata": {},
   "outputs": [],
   "source": [
    "import birdwatcher as bw\n",
    "import birdwatcher.movementdetection as md\n",
    "from birdwatcher.plotting import imshow_frame # birdwatcher has vizualization tools\n",
    "\n",
    "import matplotlib.pyplot as plt\n",
    "%matplotlib inline"
   ]
  },
  {
   "cell_type": "markdown",
   "id": "fbd81528-f308-4d16-8820-948ab9379c34",
   "metadata": {},
   "source": [
    "### Select video fragment"
   ]
  },
  {
   "cell_type": "code",
   "execution_count": null,
   "id": "a579b599-96dd-4deb-ade6-2dabb8c672d2",
   "metadata": {},
   "outputs": [],
   "source": [
    "vfs = bw.VideoFileStream(r'..\\videos\\zebrafinch.MTS')"
   ]
  },
  {
   "cell_type": "markdown",
   "id": "7f1709e7-b855-452e-a1d3-369db3a82086",
   "metadata": {},
   "source": [
    "Choose a short representative video fragment where the object of interest is moving quite a lot."
   ]
  },
  {
   "cell_type": "code",
   "execution_count": null,
   "id": "bf0f8892-72d5-485d-be1f-76c629afb567",
   "metadata": {},
   "outputs": [],
   "source": [
    "startat = '00:02:10'   # in HOURS:MM:SS\n",
    "duration = 20          # seconds"
   ]
  },
  {
   "cell_type": "code",
   "execution_count": null,
   "id": "d6077e13-76c9-4682-8df9-36c97a2475d7",
   "metadata": {},
   "outputs": [],
   "source": [
    "# look at the chosen video fragment\n",
    "vfs.iter_frames(startat=startat, nframes=vfs.avgframerate*duration).show(framerate=150)"
   ]
  },
  {
   "cell_type": "markdown",
   "id": "cf1d975d-9b23-4c22-80fa-78825e107720",
   "metadata": {},
   "source": [
    "### Choose parameters"
   ]
  },
  {
   "cell_type": "markdown",
   "id": "989080a8-6501-485c-ac0a-9dca188e17f1",
   "metadata": {},
   "source": [
    "In this example, we will use background subtraction MOG2, and try to find optimal parameter values for this algorithm. Also some manipulations before or after performing background subtraction might improve location detection, and therefore, you can also compare the settings of those."
   ]
  },
  {
   "cell_type": "markdown",
   "id": "0d86db43-7090-4fec-9f2f-8c247e68b8f0",
   "metadata": {},
   "source": [
    "First, decide which settings you would like, by adding various values in the list after each parameter. "
   ]
  },
  {
   "cell_type": "code",
   "execution_count": null,
   "id": "681be55b-5a80-455b-9426-b3e5b63fafe1",
   "metadata": {},
   "outputs": [],
   "source": [
    "settings = {'History': [4, 12],\n",
    "            'ComplexityReductionThreshold': [0.05],\n",
    "            'BackgroundRatio': [0.1, 0.5],\n",
    "            'NMixtures': [7, 50],\n",
    "            'VarInit': [15],\n",
    "            'VarMin': [4],\n",
    "            'VarMax': [75],\n",
    "            'VarThreshold': [10, 70],\n",
    "            'VarThresholdGen': [9],\n",
    "            'DetectShadows': [False],\n",
    "            'ShadowThreshold': [0.5],\n",
    "            'ShadowValue': [127],\n",
    "\n",
    "            'color': [True, False],   # booleans only\n",
    "            'resizebyfactor': [1, (2/3)],   # use '1' for no change in size\n",
    "            'blur': [0, 10],   # use '0' for no blur\n",
    "            'morphologyex': [True, False]}   # booleans only\n",
    "\n",
    "all_combinations = list(bw.product_dict(**settings))\n",
    "print(f'There are {len(all_combinations)} different combinations of settings to perform movement detection.')"
   ]
  },
  {
   "cell_type": "markdown",
   "id": "8385f831-e9da-4344-a42f-7050353bb213",
   "metadata": {},
   "source": [
    "The higher the number of combinations, the longer the next step (running movement detection) will take. Another option is to start by tweaking some parameters with larger steps of parameter values, and fine-tune the values in next rounds."
   ]
  },
  {
   "cell_type": "markdown",
   "id": "51d86475-5e5e-4af8-ac8d-3f8b33f2599d",
   "metadata": {},
   "source": [
    "### Run movemement detection per combination of settings"
   ]
  },
  {
   "cell_type": "markdown",
   "id": "91da47a1-4d92-4afa-976a-cae814d21be8",
   "metadata": {},
   "source": [
    "Movement detection is done for each combination of settings, and the mean coordinate per frame is saved in a Pandas dataframe."
   ]
  },
  {
   "cell_type": "markdown",
   "id": "6ba40a81-3d53-4f08-a6a5-19e1aaf81bd3",
   "metadata": {},
   "source": [
    "**WARNING:** This step might take a while, depending on the number of settings combinations!"
   ]
  },
  {
   "cell_type": "code",
   "execution_count": null,
   "id": "07aed424-15f0-4d44-8889-34a29749d83f",
   "metadata": {},
   "outputs": [],
   "source": [
    "%%time\n",
    "params = md.apply_all_parameters(vfs, settings, bgs_type=bw.BackgroundSubtractorMOG2, \n",
    "                                 startat=startat, duration=duration)\n",
    "params.df"
   ]
  },
  {
   "cell_type": "markdown",
   "id": "e33bdcd9-7535-4e48-8c3c-60c4bd7a95e2",
   "metadata": {},
   "source": [
    "Here, you see a pandas dataframe with in the columns all parameters that are used to run movement detection. The rows show the specific value of each parameter and the resulted mean x,y coordinates per frame (NaN means there were no nonzero pixels found for that frame). "
   ]
  },
  {
   "cell_type": "code",
   "execution_count": null,
   "id": "4aeccdae-13b9-48fc-b00b-dffb9c493262",
   "metadata": {},
   "outputs": [],
   "source": [
    "params.get_info()"
   ]
  },
  {
   "cell_type": "markdown",
   "id": "af900bf3-c6a5-4f81-86ac-654cf633aa31",
   "metadata": {},
   "source": [
    "### Save ParameterSelection"
   ]
  },
  {
   "cell_type": "markdown",
   "id": "7c452ff3-dd1f-4eb1-8e1b-aa563fd9e4a5",
   "metadata": {},
   "source": [
    "Save the results as csv file, to be able to load the dataframe later without running all movement detections per setting combination again!"
   ]
  },
  {
   "cell_type": "code",
   "execution_count": null,
   "id": "c9796e38-be78-49d7-ac53-a73547d0cb03",
   "metadata": {},
   "outputs": [],
   "source": [
    "# save DataFrame\n",
    "params.save_parameters(f'output/')\n",
    "params.path"
   ]
  },
  {
   "cell_type": "markdown",
   "id": "53282e6d-83b8-4e62-a820-43eb43fcec9a",
   "metadata": {},
   "source": [
    "The results are automatically saved in a folder with the name of the videofilestream. Often, several rounds of parameter selection per videofragment will be done with different parameter settings. Then, the same foldername is used with a number added as suffix to display the round."
   ]
  },
  {
   "cell_type": "markdown",
   "id": "1e36e800-a9b8-439c-9b35-4dc81bacc76f",
   "metadata": {},
   "source": [
    "If you want to choose your own foldername to save the results, you could add the desired foldername as optional argument. Also, you could add overwrite=False to replace an existing ParameterSelection project."
   ]
  },
  {
   "cell_type": "markdown",
   "id": "dd445386-2274-4072-8f55-6b352cc4a35a",
   "metadata": {},
   "source": [
    "### Load ParameterSelection"
   ]
  },
  {
   "cell_type": "code",
   "execution_count": null,
   "id": "563df4aa-1df6-4f2a-a068-93e353b7ec71",
   "metadata": {},
   "outputs": [],
   "source": [
    "# load ParameterSelection project\n",
    "params = md.load_parameterselection(f'output\\params_zebrafinch')"
   ]
  },
  {
   "cell_type": "markdown",
   "id": "fe93a70f-7932-4642-a696-460651abcf2b",
   "metadata": {},
   "source": [
    "Also, the associated videofilestream can be loaded:"
   ]
  },
  {
   "cell_type": "code",
   "execution_count": null,
   "id": "bcdcdcfe-8d01-4687-84df-fbf4e0644cf4",
   "metadata": {},
   "outputs": [],
   "source": [
    "params.vfs"
   ]
  },
  {
   "cell_type": "markdown",
   "id": "97d7e904-410d-4ae7-ac4a-27c14c0568b8",
   "metadata": {},
   "source": [
    "Or watch the videofragment of which the ParameterSelection object is based on:"
   ]
  },
  {
   "cell_type": "code",
   "execution_count": null,
   "id": "668dc440-edbc-4884-9e05-1a4d12bb0694",
   "metadata": {},
   "outputs": [],
   "source": [
    "frames_fragment = params.get_videofragment()\n",
    "frames_fragment.show()"
   ]
  },
  {
   "cell_type": "markdown",
   "id": "f6b30c40-2c2b-482f-a295-ac57ecb990fb",
   "metadata": {},
   "source": [
    "To access the data, run:"
   ]
  },
  {
   "cell_type": "code",
   "execution_count": null,
   "id": "3c5605f5-4fd6-4cc1-87de-eb8340c1f6d8",
   "metadata": {},
   "outputs": [],
   "source": [
    "params.df"
   ]
  },
  {
   "cell_type": "markdown",
   "id": "2069949c-0544-4007-ab1a-592c6ad8d5df",
   "metadata": {},
   "source": [
    "### Correction resizebyfactor"
   ]
  },
  {
   "cell_type": "markdown",
   "id": "aecd1ecc-7e79-42aa-bd2a-32d049745693",
   "metadata": {},
   "source": [
    "Setting 'resizebyfactor' changes the width and height of the frames. Below, we correct for this change in pixel resolution, so that it's easier to see and compare the effects of different settings on the movementdetection results below."
   ]
  },
  {
   "cell_type": "code",
   "execution_count": null,
   "id": "94a03a31-bf90-4457-a7b3-dda961100605",
   "metadata": {},
   "outputs": [],
   "source": [
    "params.df['pixel'] = params.df['pixel'] / params.df['resizebyfactor']\n",
    "params.df.loc[:, ('resizebyfactor', 'coords', 'pixel')]"
   ]
  },
  {
   "cell_type": "markdown",
   "id": "e5df1e6e-86af-41b4-a876-672e3de643db",
   "metadata": {},
   "source": [
    "### Visualize results"
   ]
  },
  {
   "cell_type": "markdown",
   "id": "e74dfa98-038c-456f-8249-0ed3e1d4c07a",
   "metadata": {},
   "source": [
    "Before visualizing the results, look again at all settings."
   ]
  },
  {
   "cell_type": "code",
   "execution_count": null,
   "id": "39440b99-518f-4f00-a8de-5f692161c4e2",
   "metadata": {},
   "outputs": [],
   "source": [
    "# the following settings have been used for backgroundsubstraction in this dataframe\n",
    "params.get_parameters('all')"
   ]
  },
  {
   "cell_type": "markdown",
   "id": "260dfaf1-26d0-4192-b497-297fe5dae7d6",
   "metadata": {},
   "source": [
    "Here, you see for which settings multiple values have been used to run movement detection. So, these are also the settings that are interesting to compare in plots or superimpose on the video fragment."
   ]
  },
  {
   "cell_type": "code",
   "execution_count": null,
   "id": "8a0e789e-a632-4fab-a14e-dce06d391643",
   "metadata": {},
   "outputs": [],
   "source": [
    "# the following settings have been tested with multiple values\n",
    "params.get_parameters('multi_only')"
   ]
  },
  {
   "cell_type": "markdown",
   "id": "810b7d5e-5e18-40de-8d80-e4bd16d71cb5",
   "metadata": {},
   "source": [
    "#### Plots"
   ]
  },
  {
   "cell_type": "markdown",
   "id": "dcdf6823-af93-45df-acbe-9ca555f0efa9",
   "metadata": {},
   "source": [
    "First, choose for each parameter with multiple values which value is the default. TIP: you can copy the output dictionary above and choose one of the values in each list. Use the value of which you think will provide the best location detection. If you have no idea, don't worry, just choose one."
   ]
  },
  {
   "cell_type": "code",
   "execution_count": null,
   "id": "f1e745dc-7a2d-4c1c-8968-3981a8397195",
   "metadata": {},
   "outputs": [],
   "source": [
    "default_values = {'morphologyex': False,\n",
    "                  'NMixtures': 7,\n",
    "                  'blur': 10,\n",
    "                  'BackgroundRatio': 0.1,\n",
    "                  'color': False,\n",
    "                  'History': 4,\n",
    "                  'VarThreshold': 70,\n",
    "                  'resizebyfactor': 1.0}"
   ]
  },
  {
   "cell_type": "markdown",
   "id": "f2be4f4d-d320-4487-b59c-0ff4cd73930f",
   "metadata": {},
   "source": [
    "You can plot the results of two parameters in one figure. The different values of one parameter is outlined in the rows and the other parameter in the columns of the subplots."
   ]
  },
  {
   "cell_type": "code",
   "execution_count": null,
   "id": "bb2dcde0-156b-4588-86bd-d12a90b40397",
   "metadata": {},
   "outputs": [],
   "source": [
    "rows = 'History'\n",
    "cols = 'color'\n",
    "\n",
    "g = params.plot_parameters(rows, cols, default_values)"
   ]
  },
  {
   "cell_type": "markdown",
   "id": "d4d91041-6898-43dc-b927-e59e7bd9e391",
   "metadata": {},
   "source": [
    "To save the plots of all combinations of parameters, use the function below."
   ]
  },
  {
   "cell_type": "code",
   "execution_count": null,
   "id": "53698f3d-70e7-4739-9937-3fbc2d77c6e5",
   "metadata": {},
   "outputs": [],
   "source": [
    "params.batch_plot_parameters(default_values)"
   ]
  },
  {
   "cell_type": "markdown",
   "id": "174fc315-5944-4759-90e5-c077f75526e8",
   "metadata": {},
   "source": [
    "The figures are saved in the same directory as where the associated ParameterSelection dataframe is saved. You can go to the folder where the figures are saved and walk through the figures. That way you get a sense of the influence of various parameter-value combinations on location detection."
   ]
  },
  {
   "cell_type": "markdown",
   "id": "17856e6e-f611-42d6-b1a9-c02d0376b718",
   "metadata": {},
   "source": [
    "For certain parameters, you might see large noise differences for the different values. For these parameters, choose the best value (the one with the least noise), and use these values as default. Run the above cells again with the new default values. The figures will be saved in a new folder (figures_2). Look again at the figures. Do this several rounds, untill you get an idea of which parameter-value combinations provide the best (least noisy) location detection."
   ]
  },
  {
   "cell_type": "markdown",
   "id": "b1f30d74-5ec0-40b8-83fd-059db462f2e5",
   "metadata": {},
   "source": [
    "#### Superimpose on video"
   ]
  },
  {
   "cell_type": "markdown",
   "id": "73304678-2c96-4494-bc24-91ca881d114e",
   "metadata": {},
   "source": [
    "In the plots you get an idea of which paramater-value combinations result in the least noisy graphs. However, it is not possible to see whether the pixel coordinates also accurately match the location of the bird. For this, it is usefull to plot the mean coordinates directly on top of the video."
   ]
  },
  {
   "cell_type": "code",
   "execution_count": null,
   "id": "cb6c7b9e-3b05-457a-8a4f-e75881d878ab",
   "metadata": {},
   "outputs": [],
   "source": [
    "params.get_parameters('multi_only')"
   ]
  },
  {
   "cell_type": "markdown",
   "id": "d3e9cc79-5e30-48f3-bd02-5ba49f6218ef",
   "metadata": {},
   "source": [
    "Again, look at the parameters with multiple values. Choose from these parameters which values you would like to see plotted as circle on the videofragment."
   ]
  },
  {
   "cell_type": "code",
   "execution_count": null,
   "id": "d998cc74-af96-4b93-9886-012b9a573a47",
   "metadata": {},
   "outputs": [],
   "source": [
    "# choose which settings to superimpose on the videofragment\n",
    "settings = {'morphologyex': [True],\n",
    "            'NMixtures': [7],\n",
    "            'blur': [10],\n",
    "            'BackgroundRatio': [0.1,],\n",
    "            'color': [False, True],\n",
    "            'History': [4],\n",
    "            'VarThreshold': [10, 70],\n",
    "            'resizebyfactor': [1.0]}\n",
    "\n",
    "all_combinations = list(bw.product_dict(**settings))\n",
    "print(f'There are {len(all_combinations)} combinations of settings to superimpose on a video.')"
   ]
  },
  {
   "cell_type": "markdown",
   "id": "c5174725-edea-4aaa-b973-51b24c0edb41",
   "metadata": {},
   "source": [
    "Too many circles plotted on the video are hard to follow. As default, a maximum of 6 circles can be superimposed on one videofragment, but often you'll probably want to plot less circles."
   ]
  },
  {
   "cell_type": "code",
   "execution_count": null,
   "id": "763143ba-8793-47db-a510-d249bf8e36d3",
   "metadata": {},
   "outputs": [],
   "source": [
    "# draw circles on videofragment\n",
    "frames, colorspecs = params.draw_multiple_circles(settings)"
   ]
  },
  {
   "cell_type": "code",
   "execution_count": null,
   "id": "e2f4db08-36f7-426b-b087-5cf14ec119bb",
   "metadata": {},
   "outputs": [],
   "source": [
    "# show the settings for each color of the circles\n",
    "colorspecs"
   ]
  },
  {
   "cell_type": "code",
   "execution_count": null,
   "id": "43dc1785-c4db-4b1a-affb-97c868727e19",
   "metadata": {},
   "outputs": [],
   "source": [
    "# look at the video using show()\n",
    "frames.show(framerate=20)"
   ]
  },
  {
   "cell_type": "markdown",
   "id": "34736487-9913-46de-97b3-1206bb61b7db",
   "metadata": {},
   "source": [
    "TIP: a lower framerate makes it easier to follow the circles."
   ]
  },
  {
   "cell_type": "code",
   "execution_count": null,
   "id": "be15b7d5-e18e-4399-9a69-8e56bd73a670",
   "metadata": {},
   "outputs": [],
   "source": [
    "# or, save as video with circles superimposed\n",
    "vfs_circles = frames.tovideo(f'{params.path}/multicircles.mp4', framerate=params.vfs.avgframerate)"
   ]
  },
  {
   "cell_type": "code",
   "execution_count": null,
   "id": "e21b809a-42cd-449d-b033-b8f7bfba5bd2",
   "metadata": {},
   "outputs": [],
   "source": [
    "# you can also save the color specification\n",
    "colorspecs.to_csv(f'{params.path}/multicircles_colorspecs.csv')"
   ]
  },
  {
   "cell_type": "markdown",
   "id": "584e0543-1087-428b-b084-bf870dfc875b",
   "metadata": {},
   "source": [
    "Now, you have an idea which parameters have a large influence on movement detection. You might want to run the notebook again and test some more values for these parameters to fine-tune your results even more. Just repeat all the steps above."
   ]
  },
  {
   "cell_type": "markdown",
   "id": "863b24b0-2e7b-4276-a546-3376f41c093d",
   "metadata": {},
   "source": [
    "Also, repeat these steps with a second short representative videofragment to make sure the same parameter-value combinations provide the best results. After that, you could use these settings to run movement detect on all your videos."
   ]
  },
  {
   "cell_type": "code",
   "execution_count": null,
   "id": "ae23c7d4-6284-4d92-bbfe-84523146f707",
   "metadata": {},
   "outputs": [],
   "source": []
  }
 ],
 "metadata": {
  "kernelspec": {
   "display_name": "Python 3 (ipykernel)",
   "language": "python",
   "name": "python3"
  },
  "language_info": {
   "codemirror_mode": {
    "name": "ipython",
    "version": 3
   },
   "file_extension": ".py",
   "mimetype": "text/x-python",
   "name": "python",
   "nbconvert_exporter": "python",
   "pygments_lexer": "ipython3",
   "version": "3.9.16"
  }
 },
 "nbformat": 4,
 "nbformat_minor": 5
}
