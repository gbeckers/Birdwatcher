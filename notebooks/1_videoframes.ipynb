{
 "cells": [
  {
   "cell_type": "markdown",
   "metadata": {},
   "source": [
    "Welcome to the tutoriol of Birdwatcher! \n",
    "\n",
    "In this first notebook, we'll introduce how you can load a video as VideoFileStream object. We also show how to look at the video frames, explain what a Frames object is, and how to apply some basic manipulations to the video frames."
   ]
  },
  {
   "cell_type": "code",
   "execution_count": null,
   "metadata": {},
   "outputs": [],
   "source": [
    "import birdwatcher as bw\n",
    "from birdwatcher.plotting import imshow_frame # birdwatcher has vizualization tools\n",
    "%matplotlib inline"
   ]
  },
  {
   "cell_type": "markdown",
   "metadata": {},
   "source": [
    "### Create a video object"
   ]
  },
  {
   "cell_type": "markdown",
   "metadata": {},
   "source": [
    "A short videofile is distributed with Birdwatcher which you can use to run the notebooks. But you can also enter a pathname to your own videofile."
   ]
  },
  {
   "cell_type": "code",
   "execution_count": null,
   "metadata": {},
   "outputs": [],
   "source": [
    "vfs = bw.VideoFileStream(r'..\\videos\\zf20s_low.mp4')\n",
    "vfs # this is a VideoFileStream"
   ]
  },
  {
   "cell_type": "code",
   "execution_count": null,
   "metadata": {},
   "outputs": [],
   "source": [
    "vfs.streammetadata"
   ]
  },
  {
   "cell_type": "markdown",
   "metadata": {},
   "source": [
    "Some useful properties and methods:"
   ]
  },
  {
   "cell_type": "code",
   "execution_count": null,
   "metadata": {},
   "outputs": [],
   "source": [
    "print(f\"average frame rate: {vfs.avgframerate}\")\n",
    "print(f\"number of frames (reported): {vfs.nframes}\")\n",
    "print(f\"counted number of frames: {vfs.count_frames()}\")\n",
    "print(f\"duration: {vfs.duration}\")\n",
    "print(f\"framewidth: {vfs.framewidth}\")\n",
    "print(f\"frameheight: {vfs.frameheight}\")\n",
    "print(f\"framesize: {vfs.framesize}\")"
   ]
  },
  {
   "cell_type": "markdown",
   "metadata": {},
   "source": [
    "### Look at video frames"
   ]
  },
  {
   "cell_type": "markdown",
   "metadata": {},
   "source": [
    "Look at video in separate window:"
   ]
  },
  {
   "cell_type": "code",
   "execution_count": null,
   "metadata": {},
   "outputs": [],
   "source": [
    "vfs.show()   # press 'q' if you want to quit video before end"
   ]
  },
  {
   "cell_type": "markdown",
   "metadata": {},
   "source": [
    "Get a frame at a given time, say at 10 s:"
   ]
  },
  {
   "cell_type": "code",
   "execution_count": null,
   "metadata": {},
   "outputs": [],
   "source": [
    "frame = vfs.get_frameat('00:10.')\n",
    "frame # numpy array, uint8"
   ]
  },
  {
   "cell_type": "markdown",
   "metadata": {},
   "source": [
    "Get a frame by number. This is inefficient for long videos, but precise. The video is decoded up to that point."
   ]
  },
  {
   "cell_type": "code",
   "execution_count": null,
   "metadata": {},
   "outputs": [],
   "source": [
    "frame = vfs.get_frame(250)"
   ]
  },
  {
   "cell_type": "code",
   "execution_count": null,
   "metadata": {},
   "outputs": [],
   "source": [
    "imshow_frame(frame)"
   ]
  },
  {
   "cell_type": "markdown",
   "metadata": {},
   "source": [
    "### Iterate Frames in video file"
   ]
  },
  {
   "cell_type": "code",
   "execution_count": null,
   "metadata": {},
   "outputs": [],
   "source": [
    "# only iterate first 20 frames\n",
    "for frame in vfs.iter_frames(nframes=20):\n",
    "    print(frame.shape, end = ', ')"
   ]
  },
  {
   "cell_type": "markdown",
   "metadata": {},
   "source": [
    "For most processing it is important to realize that the `iter_frames` method returns a Frames iterator object. This is a central type in Birdwatcher as it has a lot of useful methods for processing, analysis, and writing videos. Many methods of a Frames object return another Frames object. This way you can quickly setup a processing pipeline before doing something final such as writing a video or analysis."
   ]
  },
  {
   "cell_type": "code",
   "execution_count": null,
   "metadata": {},
   "outputs": [],
   "source": [
    "frames = vfs.iter_frames()\n",
    "frames"
   ]
  },
  {
   "cell_type": "code",
   "execution_count": null,
   "metadata": {},
   "outputs": [],
   "source": [
    "frames = frames.blur((10,10)).togray().draw_framenumbers()\n",
    "frames"
   ]
  },
  {
   "cell_type": "markdown",
   "metadata": {},
   "source": [
    "Get information, including the methods applied to a Frames object:"
   ]
  },
  {
   "cell_type": "code",
   "execution_count": null,
   "metadata": {},
   "outputs": [],
   "source": [
    "frames.get_info()"
   ]
  },
  {
   "cell_type": "markdown",
   "metadata": {},
   "source": [
    "Get a sneak preview of the manipulations:"
   ]
  },
  {
   "cell_type": "code",
   "execution_count": null,
   "metadata": {},
   "outputs": [],
   "source": [
    "frame = frames.peek_frame()\n",
    "imshow_frame(frame)"
   ]
  },
  {
   "cell_type": "markdown",
   "metadata": {},
   "source": [
    "Save as a video file:"
   ]
  },
  {
   "cell_type": "code",
   "execution_count": null,
   "metadata": {},
   "outputs": [],
   "source": [
    "vfs_processed = frames.tovideo('output/processed_frames.mp4', framerate=vfs.avgframerate)"
   ]
  },
  {
   "cell_type": "code",
   "execution_count": null,
   "metadata": {},
   "outputs": [],
   "source": [
    "vfs_processed.show() # press 'q' if you want to quit video before end"
   ]
  },
  {
   "cell_type": "markdown",
   "metadata": {},
   "source": [
    "Note that, because a Frames object is an iterator, the object will be exhausted after iterating through a Frames object, such as when writing to a video or calculating the mean frame (see below). If you try to apply another method on an 'empty' Frames iterator, this will raise a `StopIteration`. To set-up a new analysis, you will need to create the Frames iterator again, e.g. by running the `iter_frames` method again."
   ]
  },
  {
   "cell_type": "code",
   "execution_count": null,
   "metadata": {},
   "outputs": [],
   "source": [
    "frame = vfs.iter_frames().calc_meanframe() # calculate the mean frame\n",
    "imshow_frame(frame)"
   ]
  },
  {
   "cell_type": "markdown",
   "metadata": {},
   "source": [
    "### Select video fragment"
   ]
  },
  {
   "cell_type": "markdown",
   "metadata": {},
   "source": [
    "To select a video fragment specify the start time and the number of frames when using `iter_frames`:"
   ]
  },
  {
   "cell_type": "code",
   "execution_count": null,
   "metadata": {},
   "outputs": [],
   "source": [
    "startat = '00:00:02'   # in HOURS:MM:SS\n",
    "nframes = 100\n",
    "\n",
    "frames = vfs.iter_frames(startat=startat, nframes=nframes)"
   ]
  },
  {
   "cell_type": "markdown",
   "metadata": {},
   "source": [
    "Using the number of frames to specificy the duration of the video fragment is precise. But, if you want to use the duration in time to select a video fragment, just approximate the number of frames:"
   ]
  },
  {
   "cell_type": "code",
   "execution_count": null,
   "metadata": {},
   "outputs": [],
   "source": [
    "duration = 15   # in seconds\n",
    "nframes = int(vfs.avgframerate*duration)\n",
    "print(f'A video fragment of {duration} seconds with framerate {vfs.avgframerate} per second corresponds with {nframes} frames.')"
   ]
  },
  {
   "cell_type": "markdown",
   "metadata": {},
   "source": [
    "Look at the chosen video fragment:"
   ]
  },
  {
   "cell_type": "code",
   "execution_count": null,
   "metadata": {},
   "outputs": [],
   "source": [
    "frames.show(framerate=150)"
   ]
  },
  {
   "cell_type": "markdown",
   "metadata": {},
   "source": [
    "### Select region of interest"
   ]
  },
  {
   "cell_type": "markdown",
   "metadata": {},
   "source": [
    "If there is a region in the video that you don't want to track, e.g. where the subject cannot move to, or a region with movement (such as a timer), you can exclude this part of each frame."
   ]
  },
  {
   "cell_type": "markdown",
   "metadata": {},
   "source": [
    "To specify the coordinates of the rectangle that should be excluded or included, it's useful to know the framewidth and height of the video:"
   ]
  },
  {
   "cell_type": "code",
   "execution_count": null,
   "metadata": {},
   "outputs": [],
   "source": [
    "print(f\"Vertical coordinates h1, h2 = 0, {vfs.frameheight}\")\n",
    "print(f\"Horizontal coordinates w1, w2 = 0, {vfs.framewidth}\")"
   ]
  },
  {
   "cell_type": "markdown",
   "metadata": {},
   "source": [
    "Specify region of interest, so that only in this rectangular region movement detection is done. Using`imshow_frame` you can also see the coordinates along the horizontal and vertical axes."
   ]
  },
  {
   "cell_type": "code",
   "execution_count": null,
   "metadata": {},
   "outputs": [],
   "source": [
    "# specify h1, h2, w1, w2\n",
    "roi = (10, 570, 10, 1250)   # or choose None to use the whole frame\n",
    "\n",
    "# show roi in frame\n",
    "frame = vfs.iter_frames().peek_frame()\n",
    "imshow_frame(frame, draw_rectangle=roi)"
   ]
  },
  {
   "cell_type": "markdown",
   "metadata": {},
   "source": [
    "Or, define a region that should be excluded:"
   ]
  },
  {
   "cell_type": "code",
   "execution_count": null,
   "metadata": {},
   "outputs": [],
   "source": [
    "# specify h1, h2, w1, w2\n",
    "nroi = (600, 720, 0, 1280)   # or choose None to use the whole frame\n",
    "\n",
    "# show nroi in frame\n",
    "frame = vfs.iter_frames().peek_frame()\n",
    "imshow_frame(frame, draw_rectangle=nroi)"
   ]
  },
  {
   "cell_type": "code",
   "execution_count": null,
   "metadata": {},
   "outputs": [],
   "source": []
  }
 ],
 "metadata": {
  "kernelspec": {
   "display_name": "Python 3 (ipykernel)",
   "language": "python",
   "name": "python3"
  },
  "language_info": {
   "codemirror_mode": {
    "name": "ipython",
    "version": 3
   },
   "file_extension": ".py",
   "mimetype": "text/x-python",
   "name": "python",
   "nbconvert_exporter": "python",
   "pygments_lexer": "ipython3",
   "version": "3.9.16"
  }
 },
 "nbformat": 4,
 "nbformat_minor": 4
}
