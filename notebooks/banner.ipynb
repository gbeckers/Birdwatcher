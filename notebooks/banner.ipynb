{
 "cells": [
  {
   "cell_type": "markdown",
   "metadata": {},
   "source": [
    "# Create the banner for our GitHub repo and docs"
   ]
  },
  {
   "cell_type": "code",
   "execution_count": null,
   "metadata": {},
   "outputs": [],
   "source": [
    "import numpy as np\n",
    "import birdwatcher as bw\n",
    "from birdwatcher.movementdetection import detect_movementmog2\n",
    "%matplotlib inline"
   ]
  },
  {
   "cell_type": "markdown",
   "metadata": {},
   "source": [
    "we use the example video that comes with birdwatcher"
   ]
  },
  {
   "cell_type": "code",
   "execution_count": null,
   "metadata": {},
   "outputs": [],
   "source": [
    "vfs = bw.testvideosmall()"
   ]
  },
  {
   "cell_type": "markdown",
   "metadata": {},
   "source": [
    "we apply a movement detection function, based on background subtraction"
   ]
  },
  {
   "cell_type": "code",
   "execution_count": null,
   "metadata": {},
   "outputs": [],
   "source": [
    "coords, coordscount, coordsmean = detect_movementmog2(vfs, morphologyex=1, analysispath='.',\n",
    "                                                      ignore_firstnframes=20, overwrite=True,\n",
    "                                                      VarThreshold=200, NMixtures=8, History=3)"
   ]
  },
  {
   "cell_type": "markdown",
   "metadata": {},
   "source": [
    "`coords` is an array that has the coordinates of the positive pixels for each frame\n",
    "\n",
    "`coordscount` is an array with the total number of pixels for each frame\n",
    "\n",
    "`coordsmean` is an array with the mean of pixel coordinates for each frame (we are not using that here)"
   ]
  },
  {
   "cell_type": "markdown",
   "metadata": {},
   "source": [
    "Let's create the video. We want an animated gif of positive pixels in orange, cropped, with measurement values superimposed on it. You can look all methods up in the documentation: https://birdwatcher.readthedocs.io/en/latest/api.html#module-birdwatcher.frameprocessing"
   ]
  },
  {
   "cell_type": "code",
   "execution_count": null,
   "metadata": {},
   "outputs": [],
   "source": [
    "# a list of strings with the number of suprathreshold pixels\n",
    "counttextlist = [f'count : {c:4}' for c in coordscount]\n",
    "# an array of the spatial mean of suprathreshold pixels, excluding frames with count <= 20, which may be random\n",
    "coordsmean = np.array([coord if c > 20 else (np.nan, np.nan) for (coord,c) in zip(coordsmean,coordscount)])\n",
    "#  list of strings with spatial mean\n",
    "meantextlist = [f'mean : ({x:.0f}, {y:.0f})' if not np.isnan(x) else 'mean : ' for (x,y) in coordsmean ]\n",
    "# difference in distance between adjacent spatial means, needed for speed parameter\n",
    "diff = [(0,0)] + [(x,y) for (x,y) in zip(np.diff(coordsmean[:,0]),np.diff(coordsmean[:,1]))]\n",
    "# we include for speed only when many pixels change (>400), which is when bird moves around\n",
    "speed = [(x**2+y**2)*0.5 if c>400 else np.nan for ((x,y),c) in zip(diff,coordscount) ]\n",
    "speedtextlist = [f'speed : {s:.0f}' if not np.isnan(s) else 'speed : 'for s in speed]\n",
    "vfs = (coords.iter_frames(nchannels=3, value=(0,140,255), dtype='uint8')\n",
    "             .crop(250,450,0,1280)\n",
    "             .draw_text(counttextlist, org=(1030,25),fontscale=0.8)\n",
    "             .draw_text(meantextlist, org=(1030,50),fontscale=0.8)\n",
    "             .draw_text(speedtextlist, org=(1030,75),fontscale=0.8)\n",
    "             .tovideo('banner_vt200_ex1.gif', format='gif', framerate=25, crf=None, codec=None, pixfmt=None))"
   ]
  },
  {
   "cell_type": "code",
   "execution_count": null,
   "metadata": {},
   "outputs": [],
   "source": [
    "vfs.show()"
   ]
  },
  {
   "cell_type": "code",
   "execution_count": null,
   "metadata": {},
   "outputs": [],
   "source": []
  }
 ],
 "metadata": {
  "kernelspec": {
   "display_name": "Python 3 (ipykernel)",
   "language": "python",
   "name": "python3"
  },
  "language_info": {
   "codemirror_mode": {
    "name": "ipython",
    "version": 3
   },
   "file_extension": ".py",
   "mimetype": "text/x-python",
   "name": "python",
   "nbconvert_exporter": "python",
   "pygments_lexer": "ipython3",
   "version": "3.8.10"
  }
 },
 "nbformat": 4,
 "nbformat_minor": 2
}
