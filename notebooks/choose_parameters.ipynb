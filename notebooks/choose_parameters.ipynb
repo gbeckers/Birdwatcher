{
 "cells": [
  {
   "cell_type": "markdown",
   "id": "c25aad0b-650b-451b-b26d-3a118939caab",
   "metadata": {},
   "source": [
    "To detect movements in a video, we use background subtraction. There are many different background subtraction algorithms, and each algorithm has various parameters. You can use the default parameter settings in Birdwatcher, but you can also modify the parameters and optimize these for your own videos.\n",
    "\n",
    "This notebook can be used to play around with all options and various parameters settings of background subtraction algorithms when using Birdwatcher for movement detection, and see how this influences the results."
   ]
  },
  {
   "cell_type": "code",
   "execution_count": null,
   "id": "bbf1bc75-f463-48ff-b040-42acf78b1f9c",
   "metadata": {},
   "outputs": [],
   "source": [
    "import itertools\n",
    "import numpy as np\n",
    "import pandas as pd\n",
    "import seaborn as sns\n",
    "\n",
    "import birdwatcher as bw\n",
    "from birdwatcher.plotting import imshow_frame # birdwatcher has vizualization tools\n",
    "%matplotlib inline"
   ]
  },
  {
   "cell_type": "markdown",
   "id": "fbd81528-f308-4d16-8820-948ab9379c34",
   "metadata": {},
   "source": [
    "### Select video fragment"
   ]
  },
  {
   "cell_type": "code",
   "execution_count": null,
   "id": "a579b599-96dd-4deb-ade6-2dabb8c672d2",
   "metadata": {},
   "outputs": [],
   "source": [
    "vfs = bw.VideoFileStream(r'..\\videos\\zebrafinch.MTS')"
   ]
  },
  {
   "cell_type": "markdown",
   "id": "7f1709e7-b855-452e-a1d3-369db3a82086",
   "metadata": {},
   "source": [
    "Choose a short representative video fragment where the object of interest is moving quite a lot."
   ]
  },
  {
   "cell_type": "code",
   "execution_count": null,
   "id": "bf0f8892-72d5-485d-be1f-76c629afb567",
   "metadata": {},
   "outputs": [],
   "source": [
    "starttime = '00:02:10'   # in HOURS:MM:SS\n",
    "duration = 20            # seconds\n",
    "\n",
    "vfs_fragment = (vfs.iter_frames(startat=starttime, nframes=vfs.avgframerate*duration)\n",
    "                .tovideo('output/videofragment.MTS', framerate=vfs.avgframerate))"
   ]
  },
  {
   "cell_type": "code",
   "execution_count": null,
   "id": "24d4f67f-2590-46b3-ac22-66ce427d1520",
   "metadata": {},
   "outputs": [],
   "source": [
    "# or load video fragment directly from disk\n",
    "vfs_fragment = bw.VideoFileStream(r'output/videofragment.MTS')"
   ]
  },
  {
   "cell_type": "code",
   "execution_count": null,
   "id": "d6077e13-76c9-4682-8df9-36c97a2475d7",
   "metadata": {},
   "outputs": [],
   "source": [
    "# vfs_fragment.show(framerate=150)"
   ]
  },
  {
   "cell_type": "markdown",
   "id": "cf1d975d-9b23-4c22-80fa-78825e107720",
   "metadata": {},
   "source": [
    "### Choose parameters"
   ]
  },
  {
   "cell_type": "markdown",
   "id": "989080a8-6501-485c-ac0a-9dca188e17f1",
   "metadata": {},
   "source": [
    "In this example, we will use background subtraction MOG2, and try to find parameter values for this algorithm. Also some manipulations before or after performing background subtraction might improve location detection, and therefore, you can also determine the settings of those."
   ]
  },
  {
   "cell_type": "markdown",
   "id": "0d86db43-7090-4fec-9f2f-8c247e68b8f0",
   "metadata": {},
   "source": [
    "First, decide which settings you would like, by adding various values in the list after each parameter. "
   ]
  },
  {
   "cell_type": "code",
   "execution_count": null,
   "id": "ad5f3c82-8892-48b4-9664-86a8efa101a5",
   "metadata": {},
   "outputs": [],
   "source": [
    "bgs_params = {'History': [4, 8, 12],\n",
    "              'ComplexityReductionThreshold': [0.05],\n",
    "              'BackgroundRatio': [0.1],\n",
    "              'NMixtures': [7],\n",
    "              'VarInit': [15],\n",
    "              'VarMin': [4],\n",
    "              'VarMax': [75],\n",
    "              'VarThreshold': [10],\n",
    "              'VarThresholdGen': [9],\n",
    "              'DetectShadows': [False],\n",
    "              'ShadowThreshold': [0.5],\n",
    "              'ShadowValue': [127]}\n",
    "\n",
    "other_settings = {'color': [True, False],   # booleans only\n",
    "                  'resizebyfactor': [1, (2/3), (1/3)],   # use '1' for no change in size\n",
    "                  'blur': [1, 5, 10],   # use '1' for no blur\n",
    "                  'morphologyex': [True, False]}   # booleans only}"
   ]
  },
  {
   "cell_type": "code",
   "execution_count": null,
   "id": "0b673d32-5b1c-4a29-8dca-345ad45547e2",
   "metadata": {},
   "outputs": [],
   "source": [
    "def product_dict(**kwargs):\n",
    "    keys = kwargs.keys()\n",
    "    vals = kwargs.values()\n",
    "    for instance in itertools.product(*vals):\n",
    "        yield dict(zip(keys, instance))\n",
    "\n",
    "all_combinations = list(product_dict(**bgs_params, **other_settings))\n",
    "print(f'There are {len(all_combinations)} different combinations of settings to perform movement detection.')"
   ]
  },
  {
   "cell_type": "markdown",
   "id": "8385f831-e9da-4344-a42f-7050353bb213",
   "metadata": {},
   "source": [
    "The higher the number of combinations, the longer the next step (running movement detection) will take. Another option is to start by tweaking some parameters with larger steps of parameter values, and fine-tune the values in next rounds."
   ]
  },
  {
   "cell_type": "markdown",
   "id": "51d86475-5e5e-4af8-ac8d-3f8b33f2599d",
   "metadata": {},
   "source": [
    "### Run movemement detection per combination of settings"
   ]
  },
  {
   "cell_type": "markdown",
   "id": "91da47a1-4d92-4afa-976a-cae814d21be8",
   "metadata": {},
   "source": [
    "Movement detection is done for each combination of settings, and the mean coordinate per frame is saved in a Pandas dataframe."
   ]
  },
  {
   "cell_type": "markdown",
   "id": "6ba40a81-3d53-4f08-a6a5-19e1aaf81bd3",
   "metadata": {},
   "source": [
    "**WARNING:** This step might take a while, depending on the number of settings combinations!"
   ]
  },
  {
   "cell_type": "code",
   "execution_count": null,
   "id": "e5104e62-4399-4628-9197-d47353c62d4d",
   "metadata": {},
   "outputs": [],
   "source": [
    "%%time\n",
    "def movement_per_setting(vfs, bgs_params, other_settings):\n",
    "    \n",
    "    list_with_dfs = []\n",
    "\n",
    "    for settings in product_dict(**bgs_params, **other_settings):\n",
    "        \n",
    "        frames = vfs.iter_frames(color=settings['color'])\n",
    "        \n",
    "        if settings['resizebyfactor'] != 1:\n",
    "            val = settings['resizebyfactor']\n",
    "            frames = frames.resizebyfactor(val,val)\n",
    "        \n",
    "        if settings['blur'] != 1:\n",
    "            val = settings['blur']\n",
    "            frames = frames.blur((val,val))\n",
    "        \n",
    "        # extract bgs settings and apply bgs\n",
    "        params = {p:settings[p] for p in bgs_params.keys()}  \n",
    "        bgs = bw.BackgroundSubtractorMOG2(**params)\n",
    "        frames = frames.apply_backgroundsegmenter(bgs, learningRate=-1)\n",
    "        \n",
    "        if settings['morphologyex']:\n",
    "            frames = frames.morphologyex(morphtype='open', kernelsize=2)\n",
    "        \n",
    "        # find mean of nonzero coordinates\n",
    "        coordinates = frames.find_nonzero()\n",
    "        coordsmean = np.array([c.mean(0) if c.size>0 else (np.nan, np.nan) for c in coordinates])\n",
    "\n",
    "        # save coordsmean x,y in pandas DataFrame with associated settings as column labels\n",
    "        settings['coords'] = ['x', 'y']\n",
    "        columns = pd.MultiIndex.from_frame(pd.DataFrame(settings))\n",
    "        df = pd.DataFrame(coordsmean, columns=columns)\n",
    "        list_with_dfs.append(df)\n",
    "\n",
    "    df = pd.concat(list_with_dfs, axis=1)\n",
    "    return df\n",
    "\n",
    "df = movement_per_setting(vfs_fragment, bgs_params, other_settings)"
   ]
  },
  {
   "cell_type": "code",
   "execution_count": null,
   "id": "35f14e95-422a-4e84-98e6-5d6ee17c42c5",
   "metadata": {},
   "outputs": [],
   "source": [
    "df"
   ]
  },
  {
   "cell_type": "markdown",
   "id": "e33bdcd9-7535-4e48-8c3c-60c4bd7a95e2",
   "metadata": {},
   "source": [
    "Here, you see in the column index each combination of settings that is used to run movement detection. The rows represent the resulted mean x,y coordinates per frame. (NaN means there were no nonzero pixels found for that frame)"
   ]
  },
  {
   "cell_type": "markdown",
   "id": "6b175267-95b5-42cc-a1f7-7886aed1ec19",
   "metadata": {},
   "source": [
    "### Long-format dataframe"
   ]
  },
  {
   "cell_type": "markdown",
   "id": "3d8b3765-c0b5-4e68-83c4-8c50cfe5e633",
   "metadata": {},
   "source": [
    "For plotting it is easier to organize the data in a long-format."
   ]
  },
  {
   "cell_type": "code",
   "execution_count": null,
   "id": "168a3446-5e44-4372-af07-a0b0bd96f8eb",
   "metadata": {},
   "outputs": [],
   "source": [
    "# create long-format\n",
    "df.index.name = 'framenumber'\n",
    "df_long = df.stack(list(range(df.columns.nlevels)), dropna=False).reset_index()  # stack all column level\n",
    "df_long = df_long.rename({0: 'pixel'}, axis=1)\n",
    "df_long"
   ]
  },
  {
   "cell_type": "markdown",
   "id": "af900bf3-c6a5-4f81-86ac-654cf633aa31",
   "metadata": {},
   "source": [
    "### Save/load Dataframe"
   ]
  },
  {
   "cell_type": "markdown",
   "id": "7c452ff3-dd1f-4eb1-8e1b-aa563fd9e4a5",
   "metadata": {},
   "source": [
    "Save the results as csv file, to be able to load the dataframe later without running all movement detections per setting combination again!"
   ]
  },
  {
   "cell_type": "code",
   "execution_count": null,
   "id": "c9796e38-be78-49d7-ac53-a73547d0cb03",
   "metadata": {},
   "outputs": [],
   "source": [
    "# save DataFrame\n",
    "df_long.to_csv('output/dataframe_params.csv', index=False)"
   ]
  },
  {
   "cell_type": "code",
   "execution_count": null,
   "id": "563df4aa-1df6-4f2a-a068-93e353b7ec71",
   "metadata": {},
   "outputs": [],
   "source": [
    "# load DataFrame\n",
    "df_long = pd.read_csv('output/dataframe_params.csv', engine='python')"
   ]
  },
  {
   "cell_type": "code",
   "execution_count": null,
   "id": "3c5605f5-4fd6-4cc1-87de-eb8340c1f6d8",
   "metadata": {},
   "outputs": [],
   "source": [
    "df_long.head()"
   ]
  },
  {
   "cell_type": "markdown",
   "id": "2069949c-0544-4007-ab1a-592c6ad8d5df",
   "metadata": {},
   "source": [
    "### Correction resizebyfactor"
   ]
  },
  {
   "cell_type": "markdown",
   "id": "aecd1ecc-7e79-42aa-bd2a-32d049745693",
   "metadata": {},
   "source": [
    "Setting 'resizebyfactor' changes the width and height of the frames. Below, we correct for this change in pixel resolution, so that it's easier to see and compare the effects of different settings on the movementdetection results below."
   ]
  },
  {
   "cell_type": "code",
   "execution_count": null,
   "id": "94a03a31-bf90-4457-a7b3-dda961100605",
   "metadata": {},
   "outputs": [],
   "source": [
    "df_long['pixel'] = df_long['pixel'] / df_long['resizebyfactor']\n",
    "df_long.head()"
   ]
  },
  {
   "cell_type": "markdown",
   "id": "e5df1e6e-86af-41b4-a876-672e3de643db",
   "metadata": {},
   "source": [
    "### Visualize results"
   ]
  },
  {
   "cell_type": "code",
   "execution_count": null,
   "id": "f65ccaa1-c629-40db-996b-70d979b606cc",
   "metadata": {},
   "outputs": [],
   "source": [
    "def select_data(df, **kwargs):\n",
    "    \n",
    "    for key, value in kwargs.items():\n",
    "        df = df.loc[df[key]==value]\n",
    "        \n",
    "    return df"
   ]
  },
  {
   "cell_type": "markdown",
   "id": "e74dfa98-038c-456f-8249-0ed3e1d4c07a",
   "metadata": {},
   "source": [
    "Before visualizing the results, look at which settings you could compare."
   ]
  },
  {
   "cell_type": "code",
   "execution_count": null,
   "id": "d42a7943-f836-48e8-b9d7-6047f5aecc27",
   "metadata": {},
   "outputs": [],
   "source": [
    "# the following settings have been used for backgroundsubstraction in this dataframe\n",
    "all_settings = {k:list(df_long[k].unique()) for k in {**bgs_params, **other_settings}.keys()}\n",
    "all_settings"
   ]
  },
  {
   "cell_type": "code",
   "execution_count": null,
   "id": "64546914-8643-4e07-b2c5-789c2bfed539",
   "metadata": {},
   "outputs": [],
   "source": [
    "# the following settings have been tested with multiple values\n",
    "settings = {k:all_settings[k] for k in all_settings.keys() if len(all_settings[k])>1}\n",
    "settings"
   ]
  },
  {
   "cell_type": "markdown",
   "id": "260dfaf1-26d0-4192-b497-297fe5dae7d6",
   "metadata": {},
   "source": [
    "Here, you see for which settings multiple values have been used to run movement detection. So, these are also the settings that are interesting to compare in plots or superimpose on the video fragment: "
   ]
  },
  {
   "cell_type": "markdown",
   "id": "810b7d5e-5e18-40de-8d80-e4bd16d71cb5",
   "metadata": {},
   "source": [
    "#### Plots"
   ]
  },
  {
   "cell_type": "code",
   "execution_count": null,
   "id": "ade1fed7-9dfc-4c53-bc43-a4c203fc5360",
   "metadata": {},
   "outputs": [],
   "source": [
    "# choose 2 or 3 settings you would like to compare:\n",
    "rows = 'resizebyfactor'\n",
    "cols = 'History'\n",
    "style = None\n",
    "\n",
    "# choose for the other settings with multiple values, which value you would like to use for this comparison:\n",
    "other_values = {'color': True,\n",
    "                'blur': 1,\n",
    "                'morphologyex': True}\n",
    "\n",
    "df_selection = select_data(df_long, **other_values)\n",
    "\n",
    "# plot with seaborn\n",
    "sns.relplot(x=\"framenumber\", y=\"pixel\", hue=\"coords\", style=style, \n",
    "            col=cols, row=rows, kind=\"line\", data=df_selection, \n",
    "            height=3, aspect=2)"
   ]
  },
  {
   "cell_type": "markdown",
   "id": "b1f30d74-5ec0-40b8-83fd-059db462f2e5",
   "metadata": {},
   "source": [
    "#### Superimpose on video"
   ]
  },
  {
   "cell_type": "code",
   "execution_count": null,
   "id": "ccd6de26-b91e-48df-b0b7-252efc6bb053",
   "metadata": {},
   "outputs": [],
   "source": [
    "# colors in BGR.\n",
    "colors = [('blue', (255, 0, 0)),\n",
    "          ('orange', (0, 100, 255)),\n",
    "          ('red', (0, 0, 255)),\n",
    "          ('lime', (0, 255, 0))]"
   ]
  },
  {
   "cell_type": "markdown",
   "id": "bacb5574-022f-465b-bde1-815e8caba30c",
   "metadata": {},
   "source": [
    "You can add other colors or change the order of colors in the list. Note that the number of colors defined, is also the maximum number of circles you can draw in the video."
   ]
  },
  {
   "cell_type": "code",
   "execution_count": null,
   "id": "d998cc74-af96-4b93-9886-012b9a573a47",
   "metadata": {},
   "outputs": [],
   "source": [
    "# choose which settings to compare\n",
    "compare = {'History': [4, 8, 12]}\n",
    "\n",
    "# choose for the other settings with multiple values, which value you would like to use for this comparison\n",
    "other_values = {'color': True,\n",
    "                'resizebyfactor': 1,\n",
    "                'blur': 1,\n",
    "                'morphologyex': True}\n",
    "\n",
    "df_selection = select_data(df_long, **other_values)\n",
    "\n",
    "all_combinations = list(product_dict(**compare))\n",
    "print(f'There are {len(all_combinations)} combinations of settings to superimpose on a video.')"
   ]
  },
  {
   "cell_type": "code",
   "execution_count": null,
   "id": "62071087-ecfa-4fa7-8579-c1cc59ae8cb6",
   "metadata": {},
   "outputs": [],
   "source": [
    "def draw_multiple_circles(frames, df, compare, colors):\n",
    "    \n",
    "    for i, settings in enumerate(product_dict(**compare)):\n",
    "        colorname = colors[i][0]\n",
    "        colorcode = colors[i][1]\n",
    "        print(f\"The {colorname} circle has settings: {settings}\")\n",
    "\n",
    "        # select data\n",
    "        df = select_data(df_selection, **settings)\n",
    "\n",
    "        # transform into iterable\n",
    "        iterdata = df.set_index(['framenumber', 'coords']).loc[:, 'pixel'].unstack().values\n",
    "\n",
    "        frames = frames.draw_circles(iterdata, radius=60, color=colorcode)\n",
    "    \n",
    "    return frames\n",
    "\n",
    "\n",
    "frames = vfs_fragment.iter_frames().draw_framenumbers()\n",
    "frames = draw_multiple_circles(frames, df_selection, compare, colors)\n",
    "\n",
    "# save video with circles superimposed\n",
    "# vfs_circles = frames.tovideo('output/zf20s_high_multicircles.MTS', framerate=vfs.avgframerate)"
   ]
  },
  {
   "cell_type": "code",
   "execution_count": null,
   "id": "c810005e-f0c2-4847-bd5e-fed9796d0af2",
   "metadata": {},
   "outputs": [],
   "source": [
    "frames.show(framerate=100)"
   ]
  },
  {
   "cell_type": "code",
   "execution_count": null,
   "id": "ddb6e8d7-d62c-47d8-b3c5-5231e28ddbde",
   "metadata": {},
   "outputs": [],
   "source": []
  }
 ],
 "metadata": {
  "kernelspec": {
   "display_name": "Python 3 (ipykernel)",
   "language": "python",
   "name": "python3"
  },
  "language_info": {
   "codemirror_mode": {
    "name": "ipython",
    "version": 3
   },
   "file_extension": ".py",
   "mimetype": "text/x-python",
   "name": "python",
   "nbconvert_exporter": "python",
   "pygments_lexer": "ipython3",
   "version": "3.8.13"
  }
 },
 "nbformat": 4,
 "nbformat_minor": 5
}
