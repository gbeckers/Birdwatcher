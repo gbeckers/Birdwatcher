{
 "cells": [
  {
   "cell_type": "markdown",
   "metadata": {},
   "source": [
    "# Create the banner for our GitHub repo and docs\n",
    "\n",
    "This notebook creates the banner for our repos, and also illustrates how to quickly measure location and velocity of a bird in a cage"
   ]
  },
  {
   "cell_type": "code",
   "execution_count": null,
   "metadata": {},
   "outputs": [],
   "source": [
    "import numpy as np\n",
    "import birdwatcher as bw                   # general functionality\n",
    "import birdwatcher.movementdetection as md # higer level functionality for movement detection"
   ]
  },
  {
   "cell_type": "markdown",
   "metadata": {},
   "source": [
    "We use the example video that comes with birdwatcher"
   ]
  },
  {
   "cell_type": "code",
   "execution_count": null,
   "metadata": {},
   "outputs": [],
   "source": [
    "vfs = bw.testvideosmall()"
   ]
  },
  {
   "cell_type": "code",
   "execution_count": null,
   "metadata": {},
   "outputs": [],
   "source": [
    "md.detect_movement?"
   ]
  },
  {
   "cell_type": "markdown",
   "metadata": {},
   "source": [
    "We apply a movement detection function, based on background subtraction"
   ]
  },
  {
   "cell_type": "code",
   "execution_count": null,
   "metadata": {},
   "outputs": [],
   "source": [
    "# first define parameters, default algorithm is MOG2\n",
    "settings = {'bgs_params': {'VarThreshold': 200,\n",
    "                           'NMixtures': 8, \n",
    "                           'History': 3},\n",
    "            'processing': {'morphologyex': 2,\n",
    "                          'ignore_firstnframes': 20}}\n",
    "\n",
    "# do movementdetection based on those parameters\n",
    "coords, coordscount, coordsmean = md.detect_movement(vfs, settings=settings, analysispath='output/', overwrite=True)"
   ]
  },
  {
   "cell_type": "markdown",
   "metadata": {},
   "source": [
    "`coords` is an array that has the coordinates of the positive pixels (i.e. changed because of moving bird) for each frame\n",
    "\n",
    "`coordscount` is an array with the total number of positive pixels for each frame\n",
    "\n",
    "`coordsmean` is an array with the mean of changed pixel coordinates for each frame "
   ]
  },
  {
   "cell_type": "markdown",
   "metadata": {},
   "source": [
    "Let's create a video based on the movement pixels. We want an animated gif of positive pixels in orange, cropped, with measurement values superimposed on it. You can look all methods up in the documentation: https://birdwatcher.readthedocs.io/en/latest/api.html#module-birdwatcher.frameprocessing\n",
    "\n",
    "Note that the code for measuring speed etc is not optimized in any way. It is just to create a short example for the banner. "
   ]
  },
  {
   "cell_type": "code",
   "execution_count": null,
   "metadata": {},
   "outputs": [],
   "source": [
    "# a list of strings, each representing the number of suprathreshold pixels of the corresponding frame in the video\n",
    "counttextlist = [f'count : {c:4}' for c in coordscount]"
   ]
  },
  {
   "cell_type": "code",
   "execution_count": null,
   "metadata": {},
   "outputs": [],
   "source": [
    "# an array of the spatial mean of suprathreshold pixels per frame in the video\n",
    "# frames with count <= 20, which may mostly be random noise, are set to nan\n",
    "coordsmean = np.array([coord if c > 20 else (np.nan, np.nan) for (coord,c) in zip(coordsmean,coordscount)])\n",
    "#  turn this into a list of strings that we can display in the video\n",
    "meantextlist = [f'mean : ({x:.0f}, {y:.0f})' for (x,y) in coordsmean ]"
   ]
  },
  {
   "cell_type": "code",
   "execution_count": null,
   "metadata": {},
   "outputs": [],
   "source": [
    "## create a list of strings indicating the velocity of the bird \n",
    "## (which is the difference between spatial mean of adjacent frames)\n",
    "diff = np.zeros_like(coordsmean)\n",
    "# difference in distance between adjacent spatial means\n",
    "diff[1:] = np.diff(coordsmean, axis=0)\n",
    "# we include for speed only when many pixels change (>400), which is when bird moves around\n",
    "speed = [(x**2+y**2)*0.5 if c>400 else 0 for ((x,y),c) in zip(diff,coordscount) ]\n",
    "speedtextlist = [f'velocity : {int(s):4}' for s in speed]"
   ]
  },
  {
   "cell_type": "code",
   "execution_count": null,
   "metadata": {},
   "outputs": [],
   "source": [
    "# create the video; we choose gif as format, which works well for banners \n",
    "vfs_gif = (coords.iter_frames(nchannels=3, value=(0,140,255), dtype='uint8')\n",
    "             .crop(250,450,0,1280)\n",
    "             .draw_text(counttextlist, org=(1030,25),fontscale=0.8)\n",
    "             .draw_text(meantextlist, org=(1030,50),fontscale=0.8)\n",
    "             .draw_text(speedtextlist, org=(1030,75),fontscale=0.8)\n",
    "             .tovideo('output/banner_vt200_ex2.gif', format='gif', framerate=25, crf=None, codec=None, pixfmt=None))"
   ]
  }
 ],
 "metadata": {
  "kernelspec": {
   "display_name": "Python 3 (ipykernel)",
   "language": "python",
   "name": "python3"
  },
  "language_info": {
   "codemirror_mode": {
    "name": "ipython",
    "version": 3
   },
   "file_extension": ".py",
   "mimetype": "text/x-python",
   "name": "python",
   "nbconvert_exporter": "python",
   "pygments_lexer": "ipython3",
   "version": "3.13.2"
  }
 },
 "nbformat": 4,
 "nbformat_minor": 4
}
