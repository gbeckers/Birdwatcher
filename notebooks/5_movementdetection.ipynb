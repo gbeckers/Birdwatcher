{
 "cells": [
  {
   "cell_type": "markdown",
   "id": "c8a55aa1-ba0d-44a7-a771-ad2c3bf6765f",
   "metadata": {},
   "source": [
    "Again, we will use the high-level detect movement function, but instead of using the default values, you can use the optimal settings found in notebook 4 'parameterselection'. Besides viewing location detection results, it is possible to see the effects of the settings on raw movement detection. Also, we will show you how to run movement detection on a list of videofiles."
   ]
  },
  {
   "cell_type": "code",
   "execution_count": null,
   "id": "274b5d58-76e5-4eee-b48a-0a4b599c75a0",
   "metadata": {},
   "outputs": [],
   "source": [
    "import birdwatcher as bw\n",
    "import birdwatcher.movementdetection as md\n",
    "from birdwatcher.plotting import imshow_frame # birdwatcher has vizualization tools\n",
    "\n",
    "import matplotlib.pyplot as plt\n",
    "%matplotlib inline"
   ]
  },
  {
   "cell_type": "markdown",
   "id": "c8a97e60-1527-44f8-83cb-b8163761a298",
   "metadata": {},
   "source": [
    "### Select video fragment"
   ]
  },
  {
   "cell_type": "code",
   "execution_count": null,
   "id": "e9ee6186-7a33-4e8e-9f4b-f21add4df022",
   "metadata": {},
   "outputs": [],
   "source": [
    "vfs = bw.VideoFileStream(r'..\\videos\\zf20s_low.mp4')\n",
    "\n",
    "# optional: if you want to do movement detection only on part of the video\n",
    "startat = '00:00:00'   # in HOURS:MM:SS\n",
    "nframes = None\n",
    "\n",
    "# specify h1, h2, w1, w2, or choose None to use the whole frame\n",
    "roi = None   # region of interest\n",
    "nroi = None   # nót region of interest"
   ]
  },
  {
   "cell_type": "code",
   "execution_count": null,
   "id": "fe10009d-7bab-427e-9f54-4d333791b00a",
   "metadata": {
    "tags": []
   },
   "outputs": [],
   "source": [
    "# show roi and nroi in frame\n",
    "if roi is not None:\n",
    "    frame = vfs.iter_frames(startat=startat, nframes=1).draw_text(['roi'], org=(roi[0],roi[3]))\n",
    "    imshow_frame(frame.peek_frame(), draw_rectangle=roi)\n",
    "\n",
    "if nroi is not None:\n",
    "    frame = vfs.iter_frames(startat=startat, nframes=1).draw_text(['nroi'], org=(nroi[0],nroi[3]))\n",
    "    imshow_frame(frame.peek_frame(), draw_rectangle=nroi)"
   ]
  },
  {
   "cell_type": "code",
   "execution_count": null,
   "id": "828d67ad-f3f9-4907-b6b0-e267294d6fcc",
   "metadata": {},
   "outputs": [],
   "source": [
    "# look at the chosen video fragment\n",
    "vfs.iter_frames(startat=startat, nframes=nframes).show(framerate=150)"
   ]
  },
  {
   "cell_type": "markdown",
   "id": "7996ec8a-4352-47ca-a2e9-c14cfd927d54",
   "metadata": {},
   "source": [
    "### Set parameters"
   ]
  },
  {
   "cell_type": "markdown",
   "id": "9e261f92-84ff-45e3-9f42-76bcc35fced5",
   "metadata": {},
   "source": [
    "First, decide which settings you would like, by adding one value in the list after each parameter. You could enter here the optimal settings you have found in the notebook 'parameterselection'. NOTE: that the values in this dictionary don't contain lists!"
   ]
  },
  {
   "cell_type": "code",
   "execution_count": null,
   "id": "9e372b4e-4432-46bd-b51a-c08c2943b101",
   "metadata": {},
   "outputs": [],
   "source": [
    "settings = {'bgs_params':  {'History': 3,\n",
    "                            'ComplexityReductionThreshold': 0.05,\n",
    "                            'BackgroundRatio': 0.1,\n",
    "                            'NMixtures': 7,\n",
    "                            'VarInit': 15,\n",
    "                            'VarMin': 10,\n",
    "                            'VarMax': 75,\n",
    "                            'VarThreshold': 70,\n",
    "                            'VarThresholdGen': 9,\n",
    "                            'DetectShadows': False,\n",
    "                            'ShadowThreshold': 0.5,\n",
    "                            'ShadowValue': 0},\n",
    "\n",
    "            'processing':  {'color': False,   # booleans only\n",
    "                            'resizebyfactor': 1,   # use '1' for no change in size\n",
    "                            'blur': 10,   # use '0' for no blur\n",
    "                            'morphologyex': True}}   # booleans only"
   ]
  },
  {
   "cell_type": "markdown",
   "id": "10a79d50-e4ec-4d4a-bce3-a67b6dede612",
   "metadata": {},
   "source": [
    "To use a different background subtraction algorithm, just replace the parameters of the background subtractor with parameters of another algorithm (e.g. from BackgroundSubtractorKNN or BackgroundSubtractorLSBP)."
   ]
  },
  {
   "cell_type": "markdown",
   "id": "67533a6a-faef-4f4d-812a-867964947a19",
   "metadata": {},
   "source": [
    "### Run movement detection"
   ]
  },
  {
   "cell_type": "code",
   "execution_count": null,
   "id": "1599bf4a-73cf-4aaf-9e2b-d2df1cb8bfcb",
   "metadata": {},
   "outputs": [],
   "source": [
    "coords, coordscount, coordsmean = md.detect_movement(vfs, settings, startat, nframes, roi, nroi,\n",
    "                                                     bgs_type=bw.BackgroundSubtractorMOG2,\n",
    "                                                     analysispath='output/', ignore_firstnframes=50, \n",
    "                                                     overwrite=True, resultvideo=True)"
   ]
  },
  {
   "cell_type": "code",
   "execution_count": null,
   "id": "a6bbbaed-c3d4-4a4d-bd7b-3bdb29518947",
   "metadata": {},
   "outputs": [],
   "source": [
    "movementpath = f'output/movement_{vfs.filepath.stem}'\n",
    "movementpath"
   ]
  },
  {
   "cell_type": "markdown",
   "id": "fe8ebece-7cdb-455c-974f-77c78aeb2f49",
   "metadata": {},
   "source": [
    "The coordinate arrays are saved in the output/ directory within a 'movement' folder with the name of the videofilestream. Also a movementvideo (of the videofragment) is directly saved in the movement folder."
   ]
  },
  {
   "cell_type": "markdown",
   "id": "545be2dd-543d-4e8a-8768-4b32d76705a1",
   "metadata": {},
   "source": [
    "We can create a video of the coordinates results as well:"
   ]
  },
  {
   "cell_type": "code",
   "execution_count": null,
   "id": "8abe3683-328b-42cc-905f-8e55354dc1c2",
   "metadata": {},
   "outputs": [],
   "source": [
    "coords.tovideo(f'{movementpath}/coordsvideo.mp4', framerate=vfs.avgframerate)"
   ]
  },
  {
   "cell_type": "markdown",
   "id": "aed571fd-385f-4658-bef2-69a86df057ab",
   "metadata": {
    "tags": []
   },
   "source": [
    "### Load coordinate arrays"
   ]
  },
  {
   "cell_type": "code",
   "execution_count": null,
   "id": "ec7ccf41-8404-4c4c-aeae-095d072247ff",
   "metadata": {},
   "outputs": [],
   "source": [
    "coords = bw.CoordinateArrays(f'{movementpath}/coords.darr')\n",
    "coordscount = coords.get_coordcount()\n",
    "coordsmean = coords.get_coordmean()"
   ]
  },
  {
   "cell_type": "code",
   "execution_count": null,
   "id": "da66aacf-786d-4c35-b622-e511fca0880c",
   "metadata": {},
   "outputs": [],
   "source": [
    "coords.metadata"
   ]
  },
  {
   "cell_type": "code",
   "execution_count": null,
   "id": "a3a856f4-a2b9-45c1-8ab2-4e1992d5ce60",
   "metadata": {},
   "outputs": [],
   "source": [
    "coords.metadata['settings']"
   ]
  },
  {
   "cell_type": "markdown",
   "id": "ef346d52-78cc-497a-bc63-6a1beb031b72",
   "metadata": {},
   "source": [
    "### Plot results"
   ]
  },
  {
   "cell_type": "markdown",
   "id": "59743992-857b-4286-81e6-4f22a911047b",
   "metadata": {},
   "source": [
    "The coordscount shows the number of pixels that belong to the foreground, e.g. 'movement pixels', per frame. Higher peaks means more movement."
   ]
  },
  {
   "cell_type": "code",
   "execution_count": null,
   "id": "0582cc5f-ed41-4e1d-beac-8929b2f3421b",
   "metadata": {},
   "outputs": [],
   "source": [
    "plt.plot(coordscount)\n",
    "plt.title('number of pixels above treshold')\n",
    "plt.xlabel('framenumber')\n",
    "plt.ylabel('number of pixels')"
   ]
  },
  {
   "cell_type": "markdown",
   "id": "03471ac0-11e4-4534-af34-7367f3744200",
   "metadata": {},
   "source": [
    "The coordsmean shows the mean coordinates per frame. This could be used to look at the location of the subject during the video. Note, there is a different graph to see the horizontal coordinates (left-rigth) and the vertical coordinates (top-bottom)."
   ]
  },
  {
   "cell_type": "code",
   "execution_count": null,
   "id": "8b426fe1-771d-4680-a5b6-c38015aa7ae0",
   "metadata": {},
   "outputs": [],
   "source": [
    "plt.plot(coordsmean)\n",
    "plt.title('coordinates of pixels above treshold')\n",
    "plt.xlabel('frame number')\n",
    "plt.ylabel('pixel coordinate')\n",
    "plt.legend(['left-right', 'top-bottom'])"
   ]
  },
  {
   "cell_type": "markdown",
   "id": "5ebf3bd6-f305-4401-a352-de808f0bd87e",
   "metadata": {},
   "source": [
    "### Look at range of parameter values"
   ]
  },
  {
   "cell_type": "markdown",
   "id": "70f6f613-0169-4c94-91ee-749e3e965e6c",
   "metadata": {},
   "source": [
    "If you still have some doubt about the optimal parameter values, or you just want to compare several settings by looking at the raw coordinates, you can run movement detection with several values for a specific parameter. For each setting a coordinate array and a movementvideo per value are directly saved. We also save a coordinate video."
   ]
  },
  {
   "cell_type": "code",
   "execution_count": null,
   "id": "1e50c4e6-062c-4eff-9f47-9811c5acc4d0",
   "metadata": {},
   "outputs": [],
   "source": [
    "import copy\n",
    "s = copy.deepcopy(settings)"
   ]
  },
  {
   "cell_type": "code",
   "execution_count": null,
   "id": "1a0331f8-505a-4d9b-b73f-43605e744fbb",
   "metadata": {},
   "outputs": [],
   "source": [
    "parameter = 'blur'\n",
    "values = [0, 10]\n",
    "\n",
    "for value in values:\n",
    "    pathname = f'{movementpath}_{parameter}{value}'\n",
    "\n",
    "    if parameter in s['bgs_params'].keys():\n",
    "        s['bgs_params'][parameter] = value\n",
    "    elif parameter in s['processing'].keys():\n",
    "        s['processing'][parameter] = value\n",
    "\n",
    "    coords, _, _ = md.detect_movement(vfs, s, startat, nframes, roi, nroi,\n",
    "                                      bgs_type=bw.BackgroundSubtractorMOG2,\n",
    "                                      analysispath=pathname, ignore_firstnframes=50, \n",
    "                                      overwrite=True, resultvideo=True)\n",
    "    coords.tovideo(f'{pathname}/coordsvideo.mp4', framerate=vfs.avgframerate)"
   ]
  },
  {
   "cell_type": "markdown",
   "id": "39783968-eab8-4551-80cc-bea83e45b45c",
   "metadata": {},
   "source": [
    "### Batch detect movement"
   ]
  },
  {
   "cell_type": "markdown",
   "id": "c95894b7-4792-48d6-b41e-74712f2c8284",
   "metadata": {},
   "source": [
    "Do movement detection on multiple videos, in which the same parameters values will be applied to each video. From each video a coordsarray and movementvideo will be saved."
   ]
  },
  {
   "cell_type": "code",
   "execution_count": null,
   "id": "1aa6161d-638f-4bbd-9ce3-511f86008378",
   "metadata": {},
   "outputs": [],
   "source": [
    "# to be implemented"
   ]
  }
 ],
 "metadata": {
  "kernelspec": {
   "display_name": "Python 3 (ipykernel)",
   "language": "python",
   "name": "python3"
  },
  "language_info": {
   "codemirror_mode": {
    "name": "ipython",
    "version": 3
   },
   "file_extension": ".py",
   "mimetype": "text/x-python",
   "name": "python",
   "nbconvert_exporter": "python",
   "pygments_lexer": "ipython3",
   "version": "3.9.16"
  }
 },
 "nbformat": 4,
 "nbformat_minor": 5
}
