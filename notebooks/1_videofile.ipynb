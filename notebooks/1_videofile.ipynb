{
 "cells": [
  {
   "cell_type": "code",
   "execution_count": null,
   "metadata": {},
   "outputs": [],
   "source": [
    "import birdwatcher as bw\n",
    "from birdwatcher.plotting import imshow_frame # birdwatcher has vizualization tools\n",
    "%matplotlib inline"
   ]
  },
  {
   "cell_type": "markdown",
   "metadata": {},
   "source": [
    "**A short test video of a zebra finch is distributed with Birdwatcher**"
   ]
  },
  {
   "cell_type": "code",
   "execution_count": null,
   "metadata": {},
   "outputs": [],
   "source": [
    "vfs = bw.testvideosmall()\n",
    "vfs # this is a VideoFileStream"
   ]
  },
  {
   "cell_type": "code",
   "execution_count": null,
   "metadata": {},
   "outputs": [],
   "source": [
    "vfs.streammetadata"
   ]
  },
  {
   "cell_type": "markdown",
   "metadata": {},
   "source": [
    "Some useful properties and methods."
   ]
  },
  {
   "cell_type": "code",
   "execution_count": null,
   "metadata": {},
   "outputs": [],
   "source": [
    "print(f\"average frame rate: {vfs.avgframerate}\")\n",
    "print(f\"number of frames (reported): {vfs.nframes}\")\n",
    "print(f\"counted number of frames: {vfs.count_frames()}\")\n",
    "print(f\"duration: {vfs.duration}\")\n",
    "print(f\"framewidth: {vfs.framewidth}\")\n",
    "print(f\"frameheight: {vfs.frameheight}\")\n",
    "print(f\"framesize: {vfs.framesize}\")"
   ]
  },
  {
   "cell_type": "markdown",
   "metadata": {},
   "source": [
    "**Look at video frames**"
   ]
  },
  {
   "cell_type": "markdown",
   "metadata": {},
   "source": [
    "Look at video in separate window."
   ]
  },
  {
   "cell_type": "code",
   "execution_count": null,
   "metadata": {},
   "outputs": [],
   "source": [
    "vfs.show() # press 'q' if you want to quit video before end"
   ]
  },
  {
   "cell_type": "markdown",
   "metadata": {},
   "source": [
    "Get a frame at a given time, say at 10 s."
   ]
  },
  {
   "cell_type": "code",
   "execution_count": null,
   "metadata": {},
   "outputs": [],
   "source": [
    "frame = vfs.get_frameat('00:10.')\n",
    "frame # numpy array, uint8"
   ]
  },
  {
   "cell_type": "markdown",
   "metadata": {},
   "source": [
    "Get a frame by number. This is inefficient for long videos, but precise. The video is decoded up to that point."
   ]
  },
  {
   "cell_type": "code",
   "execution_count": null,
   "metadata": {},
   "outputs": [],
   "source": [
    "frame = vfs.get_frame(250)"
   ]
  },
  {
   "cell_type": "code",
   "execution_count": null,
   "metadata": {},
   "outputs": [],
   "source": [
    "imshow_frame(frame)"
   ]
  },
  {
   "cell_type": "markdown",
   "metadata": {},
   "source": [
    "**Iterate Frames in video file**"
   ]
  },
  {
   "cell_type": "code",
   "execution_count": null,
   "metadata": {},
   "outputs": [],
   "source": [
    "for frame in vfs.iter_frames(nframes=20): # only iterate first 20 frames\n",
    "    print(frame.shape, end = ', ')"
   ]
  },
  {
   "cell_type": "markdown",
   "metadata": {},
   "source": [
    "For most processing it is important to realize that the `iter_frames` method returns a Frames iterator object. This is a central type in Birdwatcher as it has a lot of useful methods for processing, analysis, and writing videos. Many methods of a Frames object return another Frames object. This way you can quickly setup a processing pipeline before doing something final such as writing a video or analysis."
   ]
  },
  {
   "cell_type": "code",
   "execution_count": null,
   "metadata": {},
   "outputs": [],
   "source": [
    "frames = vfs.iter_frames()\n",
    "frames"
   ]
  },
  {
   "cell_type": "code",
   "execution_count": null,
   "metadata": {},
   "outputs": [],
   "source": [
    "frames = frames.blur((10,10)).togray().draw_framenumbers()\n",
    "frames"
   ]
  },
  {
   "cell_type": "markdown",
   "metadata": {},
   "source": [
    "Get information, including the methods applied to a Frames object."
   ]
  },
  {
   "cell_type": "code",
   "execution_count": null,
   "metadata": {},
   "outputs": [],
   "source": [
    "frames.get_info()"
   ]
  },
  {
   "cell_type": "markdown",
   "metadata": {},
   "source": [
    "Get a sneak preview of the manipulations."
   ]
  },
  {
   "cell_type": "code",
   "execution_count": null,
   "metadata": {},
   "outputs": [],
   "source": [
    "frame = frames.peek_frame()\n",
    "imshow_frame(frame)"
   ]
  },
  {
   "cell_type": "markdown",
   "metadata": {},
   "source": [
    "Save as a video file."
   ]
  },
  {
   "cell_type": "code",
   "execution_count": null,
   "metadata": {},
   "outputs": [],
   "source": [
    "vfs_processed = frames.tovideo('output/processed_frames.mp4', framerate=vfs.avgframerate)"
   ]
  },
  {
   "cell_type": "code",
   "execution_count": null,
   "metadata": {},
   "outputs": [],
   "source": [
    "vfs_processed.show() # press 'q' if you want to quit video before end"
   ]
  },
  {
   "cell_type": "markdown",
   "metadata": {},
   "source": [
    "Note that, because a Frames object is an iterator, the object will be exhausted after iterating through a Frames object, such as when writing to a video or calculating the mean frame (see below). If you try to apply another method on an 'empty' Frames iterator, this will raise a `StopIteration`. To set-up a new analysis, you will need to run the `iter_frames` method again to create a new Frames iterator."
   ]
  },
  {
   "cell_type": "code",
   "execution_count": null,
   "metadata": {},
   "outputs": [],
   "source": [
    "# --> also, doesn't work at the moment\n",
    "# frame = vfs.iter_frames().calc_meanframe() # calculate the mean frame\n",
    "# imshow_frame(frame)"
   ]
  },
  {
   "cell_type": "code",
   "execution_count": null,
   "metadata": {},
   "outputs": [],
   "source": []
  }
 ],
 "metadata": {
  "kernelspec": {
   "display_name": "Python 3 (ipykernel)",
   "language": "python",
   "name": "python3"
  },
  "language_info": {
   "codemirror_mode": {
    "name": "ipython",
    "version": 3
   },
   "file_extension": ".py",
   "mimetype": "text/x-python",
   "name": "python",
   "nbconvert_exporter": "python",
   "pygments_lexer": "ipython3",
   "version": "3.9.16"
  }
 },
 "nbformat": 4,
 "nbformat_minor": 4
}
