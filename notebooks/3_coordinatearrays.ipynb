{
 "cells": [
  {
   "cell_type": "markdown",
   "metadata": {},
   "source": [
    "The results of background subtraction are non-zero pixel (i.e. foreground) coordinates. These can saved as coordinate arrays. A coordinate array really is just a Darr ragged array (see separate library). This makes it easy to read the data in other environments, e.g. R. But also Birdwatcher provides functionality to access coordinate arrays, and look at the results in videos and plots."
   ]
  },
  {
   "cell_type": "code",
   "execution_count": null,
   "metadata": {},
   "outputs": [],
   "source": [
    "import numpy as np\n",
    "import birdwatcher as bw\n",
    "import birdwatcher.movementdetection as md\n",
    "\n",
    "from birdwatcher.plotting import imshow_frame\n",
    "import matplotlib.pyplot as plt\n",
    "%matplotlib inline"
   ]
  },
  {
   "cell_type": "markdown",
   "metadata": {},
   "source": [
    "### Create a video object"
   ]
  },
  {
   "cell_type": "code",
   "execution_count": null,
   "metadata": {},
   "outputs": [],
   "source": [
    "vfs = bw.VideoFileStream(r'..\\videos\\zf20s_low.mp4')"
   ]
  },
  {
   "cell_type": "markdown",
   "metadata": {},
   "source": [
    "### Create coordinate arrays"
   ]
  },
  {
   "cell_type": "markdown",
   "metadata": {},
   "source": [
    "In the previous notebook, we showed how to use background subtraction and save the results into a coordinate array step-by-step. In this notebook, we will do movement detection the easy way, by using a high-level function, with the results saved as coordinate arrays.\n",
    "\n",
    "We will use the default settings, meaning that the default values for the background subtractor MOG2 and some pre- and postprocessing steps are automatically taken care of. For the example video this will work great, but for other videos you might need more control of the various settings. Have a look at the next notebooks to find out how to modify the default settings of this function."
   ]
  },
  {
   "cell_type": "code",
   "execution_count": null,
   "metadata": {},
   "outputs": [],
   "source": [
    "coords, coordscount, coordsmean = md.detect_movement(vfs, bgs_type=bw.BackgroundSubtractorMOG2,\n",
    "                                                     analysispath='output/', ignore_firstnframes=50, \n",
    "                                                     overwrite=True)"
   ]
  },
  {
   "cell_type": "markdown",
   "metadata": {},
   "source": [
    "This high-level function returns three arrays, which are disk-based Darr arrays. They can be very large and hence not fit in RAM. The coordinate arrays are saved within a 'movement' folder with the name of the VideoFileStream."
   ]
  },
  {
   "cell_type": "markdown",
   "metadata": {
    "tags": []
   },
   "source": [
    "### Accessing coordinate arrays"
   ]
  },
  {
   "cell_type": "markdown",
   "metadata": {},
   "source": [
    "The coordinate array can be accessed in other python sessions like so:"
   ]
  },
  {
   "cell_type": "code",
   "execution_count": null,
   "metadata": {},
   "outputs": [],
   "source": [
    "coords = bw.CoordinateArrays('output/movement_zf20s_low/coords.darr')"
   ]
  },
  {
   "cell_type": "code",
   "execution_count": null,
   "metadata": {},
   "outputs": [],
   "source": [
    "coords.metadata"
   ]
  },
  {
   "cell_type": "markdown",
   "metadata": {},
   "source": [
    "To access coordscount and coordsmean just run:"
   ]
  },
  {
   "cell_type": "code",
   "execution_count": null,
   "metadata": {},
   "outputs": [],
   "source": [
    "coordscount = coords.get_coordcount()\n",
    "coordsmean = coords.get_coordmean()"
   ]
  },
  {
   "cell_type": "markdown",
   "metadata": {},
   "source": [
    "### Look at `coords`"
   ]
  },
  {
   "cell_type": "markdown",
   "metadata": {},
   "source": [
    "'Coords' provide the detected foreground pixels in a ragged array. Therefore, you will have the coordinates of all 'movement pixels' per frame. You can have a look at the results as a video in a separate window: (press 'q' to quit)"
   ]
  },
  {
   "cell_type": "code",
   "execution_count": null,
   "metadata": {},
   "outputs": [],
   "source": [
    "coords.show(framerate=vfs.avgframerate)"
   ]
  },
  {
   "cell_type": "markdown",
   "metadata": {},
   "source": [
    "Let's look at the results of frame 131:"
   ]
  },
  {
   "cell_type": "code",
   "execution_count": null,
   "metadata": {},
   "outputs": [],
   "source": [
    "coords[131]"
   ]
  },
  {
   "cell_type": "markdown",
   "metadata": {},
   "source": [
    "You can see a simple numpy array with the x, y coordinates of all 'movement pixels'."
   ]
  },
  {
   "cell_type": "markdown",
   "metadata": {},
   "source": [
    "We can view the results as a black and white image by the `get_frame` method, which returns a frame instead of coordinates."
   ]
  },
  {
   "cell_type": "code",
   "execution_count": null,
   "metadata": {},
   "outputs": [],
   "source": [
    "frame = coords.get_frame(131)\n",
    "imshow_frame(frame)"
   ]
  },
  {
   "cell_type": "markdown",
   "metadata": {},
   "source": [
    "Let's look at the original frame as comparison:"
   ]
  },
  {
   "cell_type": "code",
   "execution_count": null,
   "metadata": {},
   "outputs": [],
   "source": [
    "imshow_frame(vfs.get_frame(131))"
   ]
  },
  {
   "cell_type": "markdown",
   "metadata": {},
   "source": [
    "We can create a video of the results as well:"
   ]
  },
  {
   "cell_type": "code",
   "execution_count": null,
   "metadata": {},
   "outputs": [],
   "source": [
    "coords.tovideo('output/zf20s_coords.mp4', framerate=vfs.avgframerate)"
   ]
  },
  {
   "cell_type": "markdown",
   "metadata": {},
   "source": [
    "Or a selection of the results by indicating start and end frame numbers:"
   ]
  },
  {
   "cell_type": "code",
   "execution_count": null,
   "metadata": {},
   "outputs": [],
   "source": [
    "coords.tovideo('output/zf20s_coords_selection.mp4', startframe=100, endframe=200, framerate=vfs.avgframerate)"
   ]
  },
  {
   "cell_type": "markdown",
   "metadata": {},
   "source": [
    "If you want to do more things before saving to video, just use `iter_frames` which turns it into a Frames object with many more methods. Make sure you use three color channels and set coordinates to value 255 if you want them white."
   ]
  },
  {
   "cell_type": "code",
   "execution_count": null,
   "metadata": {},
   "outputs": [],
   "source": [
    "frames = (coords.iter_frames(startframe=100, endframe=200, nchannels=3, value=255)\n",
    "          .draw_framenumbers()\n",
    "          .tovideo('output/zf20s_coords_selection_framenumbers.mp4', framerate=vfs.avgframerate))"
   ]
  },
  {
   "cell_type": "markdown",
   "metadata": {},
   "source": [
    "### Look at `coordscount`"
   ]
  },
  {
   "cell_type": "markdown",
   "metadata": {},
   "source": [
    "The 'coordscount' shows the number of pixels that belong to the foreground, e.g. 'movement pixels', per frame. Thus, higher peaks means more movement."
   ]
  },
  {
   "cell_type": "code",
   "execution_count": null,
   "metadata": {},
   "outputs": [],
   "source": [
    "plt.plot(coordscount)\n",
    "plt.title('number of pixels above treshold')\n",
    "plt.xlabel('frame number')\n",
    "plt.ylabel('number of pixels')"
   ]
  },
  {
   "cell_type": "markdown",
   "metadata": {},
   "source": [
    "### Look at `coordsmean`"
   ]
  },
  {
   "cell_type": "markdown",
   "metadata": {},
   "source": [
    "The 'coordsmean' shows the mean coordinates per frame. This could be used to look at the location of the subject during the video. The blue line shows the horizontal coordinates (left-rigth) and the orange line show the vertical coordinates (top-bottom)."
   ]
  },
  {
   "cell_type": "code",
   "execution_count": null,
   "metadata": {},
   "outputs": [],
   "source": [
    "plt.plot(coordsmean)\n",
    "plt.title('coordinates of pixels above treshold')\n",
    "plt.xlabel('frame number')\n",
    "plt.ylabel('pixel coordinate')\n",
    "plt.legend(['left-right', 'top-bottom'])"
   ]
  },
  {
   "cell_type": "markdown",
   "metadata": {},
   "source": [
    "We can also look at the mean coordinates in a video using the original frames + the mean coordinate per frame superimposed on it as a circle:"
   ]
  },
  {
   "cell_type": "code",
   "execution_count": null,
   "metadata": {},
   "outputs": [],
   "source": [
    "vfs_circle = (vfs.iter_frames()\n",
    "              .draw_framenumbers()\n",
    "              .draw_circles(coordsmean)\n",
    "              .tovideo('output/zf20s_coords_center.mp4', framerate=vfs.avgframerate))"
   ]
  },
  {
   "cell_type": "markdown",
   "metadata": {},
   "source": [
    "It's also possible to change the settings of the circle, such as the radius and color:"
   ]
  },
  {
   "cell_type": "code",
   "execution_count": null,
   "metadata": {},
   "outputs": [],
   "source": [
    "vfs_circle = (vfs.iter_frames()\n",
    "              .draw_framenumbers()\n",
    "              .draw_circles(coordsmean, radius=50, color=(0, 100, 255))\n",
    "              .tovideo('output/zf20s_coords_center_orange.mp4', framerate=vfs.avgframerate))"
   ]
  },
  {
   "cell_type": "markdown",
   "metadata": {},
   "source": [
    "There is also a high-level function that creates a similar video, but better! It will produce a video of the original one with coordinate results ánd the mean results superimposed."
   ]
  },
  {
   "cell_type": "code",
   "execution_count": null,
   "metadata": {},
   "outputs": [],
   "source": [
    "vfs_results = md.create_movementvideo(vfs, coords, videofilepath='output/movementvideoexample.mp4')"
   ]
  },
  {
   "cell_type": "code",
   "execution_count": null,
   "metadata": {},
   "outputs": [],
   "source": []
  }
 ],
 "metadata": {
  "kernelspec": {
   "display_name": "Python 3 (ipykernel)",
   "language": "python",
   "name": "python3"
  },
  "language_info": {
   "codemirror_mode": {
    "name": "ipython",
    "version": 3
   },
   "file_extension": ".py",
   "mimetype": "text/x-python",
   "name": "python",
   "nbconvert_exporter": "python",
   "pygments_lexer": "ipython3",
   "version": "3.9.16"
  }
 },
 "nbformat": 4,
 "nbformat_minor": 4
}
