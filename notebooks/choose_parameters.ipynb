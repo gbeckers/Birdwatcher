{
 "cells": [
  {
   "cell_type": "markdown",
   "id": "c25aad0b-650b-451b-b26d-3a118939caab",
   "metadata": {},
   "source": [
    "To detect movements in a video, we use background substration. There are many different background substraction algorithms, and each algorithm has various parameters. You can use the default parameter settings in Birdwatcher, but you can also modify the parameters and optimize these for your own videos.\n",
    "\n",
    "This notebook can be used to play around with all options and various parameters settings of background substraction algorithms when using Birdwatcher for movement detection, and see how this influences the results."
   ]
  },
  {
   "cell_type": "code",
   "execution_count": null,
   "id": "bbf1bc75-f463-48ff-b040-42acf78b1f9c",
   "metadata": {},
   "outputs": [],
   "source": [
    "import itertools\n",
    "\n",
    "import birdwatcher as bw\n",
    "from birdwatcher.plotting import imshow_frame # birdwatcher has vizualization tools\n",
    "%matplotlib inline"
   ]
  },
  {
   "cell_type": "markdown",
   "id": "fbd81528-f308-4d16-8820-948ab9379c34",
   "metadata": {},
   "source": [
    "### Select video fragment"
   ]
  },
  {
   "cell_type": "code",
   "execution_count": null,
   "id": "a579b599-96dd-4deb-ade6-2dabb8c672d2",
   "metadata": {},
   "outputs": [],
   "source": [
    "vfs = bw.VideoFileStream(r'..\\videos\\zebrafinch.MTS')"
   ]
  },
  {
   "cell_type": "markdown",
   "id": "7f1709e7-b855-452e-a1d3-369db3a82086",
   "metadata": {},
   "source": [
    "Choose a short representative video fragment where the object of interest is moving quite a lot."
   ]
  },
  {
   "cell_type": "code",
   "execution_count": null,
   "id": "659648f9-a56a-462b-8487-28bb92927191",
   "metadata": {},
   "outputs": [],
   "source": [
    "# insert starttime (in HOURS:MM:SS) for video fragment\n",
    "starttime = '00:02:10'\n",
    "\n",
    "# select 20 seconds of video frames \n",
    "frames = vfs.iter_frames(startat=starttime, nframes=vfs.avgframerate*20)\n",
    "\n",
    "# frames.show(framerate=vfs.avgframerate)"
   ]
  },
  {
   "cell_type": "markdown",
   "id": "cf1d975d-9b23-4c22-80fa-78825e107720",
   "metadata": {},
   "source": [
    "### Choose parameters"
   ]
  },
  {
   "cell_type": "markdown",
   "id": "989080a8-6501-485c-ac0a-9dca188e17f1",
   "metadata": {},
   "source": [
    "In this example, we will use background substraction MOG2, and try to find parameter values for this algorithm. Also some manipulations before or after performing background substraction might improve location detection."
   ]
  },
  {
   "cell_type": "markdown",
   "id": "0d86db43-7090-4fec-9f2f-8c247e68b8f0",
   "metadata": {},
   "source": [
    "First, decide which settings you would like, by adding various values in the list after each parameter. "
   ]
  },
  {
   "cell_type": "code",
   "execution_count": null,
   "id": "ad5f3c82-8892-48b4-9664-86a8efa101a5",
   "metadata": {},
   "outputs": [],
   "source": [
    "bgs_params = {'History': [4, 8, 12],\n",
    "              'ComplexityReductionThreshold': [0.05],\n",
    "              'BackgroundRatio': [0.1],\n",
    "              'NMixtures': [7],\n",
    "              'VarInit': [15],\n",
    "              'VarMin': [4],\n",
    "              'VarMax': [75],\n",
    "              'VarThreshold': [10, 100],\n",
    "              'VarThresholdGen': [9],\n",
    "              'DetectShadows': [False],\n",
    "              'ShadowThreshold': [0.5],\n",
    "              'ShadowValue': [127]}\n",
    "\n",
    "other_settings = {'color': [True, False],            # booleans only\n",
    "                  'morphologyex': [True],            # booleans only\n",
    "                  'blur': [False],                   # booleans only\n",
    "                  'resizebyfactor': [(2/3), (1/3)]}  # reduced resolution might help for location detection"
   ]
  },
  {
   "cell_type": "code",
   "execution_count": null,
   "id": "0b673d32-5b1c-4a29-8dca-345ad45547e2",
   "metadata": {},
   "outputs": [],
   "source": [
    "def product_dict(**kwargs):\n",
    "    keys = kwargs.keys()\n",
    "    vals = kwargs.values()\n",
    "    for instance in itertools.product(*vals):\n",
    "        yield dict(zip(keys, instance))\n",
    "\n",
    "settings_list = list(product_dict(**bgs_params, **other_settings))\n",
    "\n",
    "print(f'There are {len(settings_list)} different combinations of settings to perform movement detection.')"
   ]
  },
  {
   "cell_type": "markdown",
   "id": "8385f831-e9da-4344-a42f-7050353bb213",
   "metadata": {},
   "source": [
    "Make sure that the number of combinations is not too high. Start by tweaking some parameters with larger steps of parameter values, and fine-tune the values in next rounds."
   ]
  },
  {
   "cell_type": "code",
   "execution_count": null,
   "id": "9b5c555b-d2ca-4f2d-a494-9113e7c24045",
   "metadata": {},
   "outputs": [],
   "source": []
  }
 ],
 "metadata": {
  "kernelspec": {
   "display_name": "Python 3 (ipykernel)",
   "language": "python",
   "name": "python3"
  },
  "language_info": {
   "codemirror_mode": {
    "name": "ipython",
    "version": 3
   },
   "file_extension": ".py",
   "mimetype": "text/x-python",
   "name": "python",
   "nbconvert_exporter": "python",
   "pygments_lexer": "ipython3",
   "version": "3.8.13"
  }
 },
 "nbformat": 4,
 "nbformat_minor": 5
}
