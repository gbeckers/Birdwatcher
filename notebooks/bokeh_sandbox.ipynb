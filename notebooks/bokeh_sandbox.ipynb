{
 "cells": [
  {
   "cell_type": "code",
   "execution_count": null,
   "metadata": {},
   "outputs": [],
   "source": [
    "import numpy as np\n",
    "import pandas as pd\n",
    "import darr\n",
    "from birdwatcher import VideoFileStream, CoordinateArrays\n",
    "from bokeh.plotting import figure, ColumnDataSource\n",
    "from bokeh.io import output_notebook, show\n",
    "from bokeh.models import HoverTool, ZoomInTool\n",
    "import datashader as ds\n",
    "import datashader.transfer_functions as tf\n",
    "from datashader.bokeh_ext import InteractiveImage\n",
    "output_notebook()"
   ]
  },
  {
   "cell_type": "code",
   "execution_count": null,
   "metadata": {},
   "outputs": [],
   "source": [
    "coordinates = darr.RaggedArray('./zf20s_low_movementknn_me2/coordinates.drarr/') \n",
    "coordsmean = darr.Array('./zf20s_low_movementknn_me2/coordsmean.darr/')\n",
    "coordscount = darr.Array('./zf20s_low_movementknn_me2/coordscount.darr/')\n"
   ]
  },
  {
   "cell_type": "code",
   "execution_count": null,
   "metadata": {},
   "outputs": [],
   "source": [
    "def plot_meancoord(coordsmean, coordscount, countthreshold=0, decimate=None):\n",
    "    \n",
    "    if decimate is None:\n",
    "        x, y = coordsmean[:,0], coordsmean[:,1]\n",
    "        c = coordscount[:]\n",
    "        decimate=1\n",
    "    else:\n",
    "        x, y = coordsmean[::decimate,0], coordsmean[::decimate,1]\n",
    "        c = coordscount[::decimate]\n",
    "    thi = c > countthreshold\n",
    "    desc = np.arange(len(x))*decimate\n",
    "    source = ColumnDataSource(\n",
    "            data=dict(\n",
    "                x=x[thi],\n",
    "                y=y[thi],\n",
    "                desc=desc[thi],\n",
    "            )\n",
    "        )\n",
    "\n",
    "    hover = HoverTool(\n",
    "            tooltips=[\n",
    "                (\"index\", \"$index\"),\n",
    "                (\"(x,y)\", \"($x, $y)\"),\n",
    "                (\"desc\", \"@desc\"),\n",
    "            ]\n",
    "    )\n",
    "\n",
    "    p = figure(title=\"coordinate mean\", x_axis_label='x', y_axis_label='y', width=900, height=800, \n",
    "               tools=[hover, ZoomInTool()])\n",
    "    p.scatter('x', 'y', legend=\"mean coordinate\", source=source, size=3)\n",
    "    show(p)"
   ]
  },
  {
   "cell_type": "code",
   "execution_count": null,
   "metadata": {},
   "outputs": [],
   "source": [
    "plot_meancoord(coordsmean, coordscount, decimate=None)"
   ]
  },
  {
   "cell_type": "code",
   "execution_count": null,
   "metadata": {},
   "outputs": [],
   "source": [
    "df = pd.DataFrame({'x_col': coordsmean[:,0], 'y_col': coordsmean[:,1] })"
   ]
  },
  {
   "cell_type": "code",
   "execution_count": null,
   "metadata": {},
   "outputs": [],
   "source": [
    "def base_plot():\n",
    "    p = figure(\n",
    "        x_range=(0, 1920),\n",
    "        y_range=(0, 1080),\n",
    "        tools='pan,wheel_zoom,box_zoom,reset', \n",
    "        plot_width=900, \n",
    "        plot_height=800,\n",
    "    )\n",
    "    p.xgrid.grid_line_color = None\n",
    "    p.ygrid.grid_line_color = None\n",
    "    p.xaxis.axis_label = \"Distance, left-right\"\n",
    "    p.yaxis.axis_label = \"Distance, top-bottom\"\n",
    "    p.xaxis.axis_label_text_font_size = '12pt'\n",
    "    p.yaxis.axis_label_text_font_size = '12pt'\n",
    "    return p\n",
    "    \n",
    "options = dict(line_color=None, fill_color='blue', size=5)"
   ]
  },
  {
   "cell_type": "code",
   "execution_count": null,
   "metadata": {},
   "outputs": [],
   "source": [
    "cvs = ds.Canvas(plot_width=900, plot_height=800)\n",
    "agg = cvs.points(df, 'x_col', 'y_col', ds.count())\n",
    "img = tf.shade(agg, cmap=['lightblue', 'darkblue'], how='log')\n",
    "p = base_plot()\n",
    "pipeline = ds.Pipeline(df, ds.Point('x_col', 'y_col'))\n",
    "InteractiveImage(p, pipeline)"
   ]
  }
 ],
 "metadata": {
  "kernelspec": {
   "display_name": "Python 3 (ipykernel)",
   "language": "python",
   "name": "python3"
  },
  "language_info": {
   "codemirror_mode": {
    "name": "ipython",
    "version": 3
   },
   "file_extension": ".py",
   "mimetype": "text/x-python",
   "name": "python",
   "nbconvert_exporter": "python",
   "pygments_lexer": "ipython3",
   "version": "3.8.10"
  }
 },
 "nbformat": 4,
 "nbformat_minor": 2
}
