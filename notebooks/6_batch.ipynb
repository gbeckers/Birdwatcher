{
 "cells": [
  {
   "cell_type": "markdown",
   "id": "e87c5a1b-aeb1-4246-9db8-86053b391b18",
   "metadata": {},
   "source": [
    "Processing video data often takes quite some time, especially when you have many videos. In this notebook we show some examples of how you could apply movement detection to multiple videos and how to optimize processing speed."
   ]
  },
  {
   "cell_type": "code",
   "execution_count": null,
   "id": "ba84211f-9f4f-4a42-aab2-30cf51561ed0",
   "metadata": {},
   "outputs": [],
   "source": [
    "from pathlib import Path\n",
    "\n",
    "import birdwatcher as bw\n",
    "import birdwatcher.movementdetection as md"
   ]
  },
  {
   "cell_type": "markdown",
   "id": "cd9b250e-0314-47b5-a8de-953f1efc0097",
   "metadata": {},
   "source": [
    "### Select videos and settings"
   ]
  },
  {
   "cell_type": "markdown",
   "id": "82b57cd6-6977-445c-bf5e-9c986c8fddc4",
   "metadata": {},
   "source": [
    "First, specify a directory with all videos you would like to do movement detection on. Make sure the filename extension is correct."
   ]
  },
  {
   "cell_type": "code",
   "execution_count": null,
   "id": "5054c2a4-e49d-48ce-9abc-4c30c9724a78",
   "metadata": {},
   "outputs": [],
   "source": [
    "videodir = r'../videos'\n",
    "\n",
    "# create a list of videofilepaths\n",
    "videofilepaths = list(Path(videodir).glob('*.mp4'))\n",
    "videofilepaths"
   ]
  },
  {
   "cell_type": "markdown",
   "id": "a690d495-effd-4cf1-9ae4-70ea55840fbb",
   "metadata": {},
   "source": [
    "Then, load each video as VideoFileStream object into a list:"
   ]
  },
  {
   "cell_type": "code",
   "execution_count": null,
   "id": "6e6995f6-0ec2-47ca-b6ff-a845d74d7fe3",
   "metadata": {},
   "outputs": [],
   "source": [
    "vfs_list = [bw.VideoFileStream(path) for path in videofilepaths]\n",
    "vfs_list"
   ]
  },
  {
   "cell_type": "markdown",
   "id": "9445554f-be1f-40ec-bac6-0f1e990772ce",
   "metadata": {},
   "source": [
    "Specify the settings you want to use for movement detection. Note that these settings will be applied to all videos in the directory!"
   ]
  },
  {
   "cell_type": "code",
   "execution_count": null,
   "id": "ec6ad62d-2e77-438f-a705-391f614e649a",
   "metadata": {},
   "outputs": [],
   "source": [
    "# optional: if you want to do movement detection only on part of the videos\n",
    "startat = '00:00:00'   # in HOURS:MM:SS\n",
    "nframes = None\n",
    "\n",
    "# specify h1, h2, w1, w2, or choose None to use the whole frames\n",
    "roi = None   # region of interest\n",
    "nroi = None   # nót region of interest"
   ]
  },
  {
   "cell_type": "code",
   "execution_count": null,
   "id": "c31c79bb-7c58-490f-a812-2ebeddf3e965",
   "metadata": {},
   "outputs": [],
   "source": [
    "settings = {'bgs_params':  {'History': 3,\n",
    "                            'ComplexityReductionThreshold': 0.05,\n",
    "                            'BackgroundRatio': 0.1,\n",
    "                            'NMixtures': 7,\n",
    "                            'VarInit': 15,\n",
    "                            'VarMin': 10,\n",
    "                            'VarMax': 75,\n",
    "                            'VarThreshold': 70,\n",
    "                            'VarThresholdGen': 9,\n",
    "                            'DetectShadows': False,\n",
    "                            'ShadowThreshold': 0.5,\n",
    "                            'ShadowValue': 0},\n",
    "\n",
    "            'processing':  {'color': False,   # booleans only\n",
    "                            'resizebyfactor': 1,   # use '1' for no change in size\n",
    "                            'blur': 10,   # use '0' for no blur\n",
    "                            'morphologyex': True}}   # booleans only"
   ]
  },
  {
   "cell_type": "markdown",
   "id": "4c1bbae7-ebaa-40dd-b6e8-7bb78f9801cf",
   "metadata": {},
   "source": [
    "### Batch detect movement - normal"
   ]
  },
  {
   "cell_type": "markdown",
   "id": "ddbc65a9-cee7-4e52-83cc-6784ed06fb25",
   "metadata": {},
   "source": [
    "Do movement detection on multiple videos, in which the same parameters values will be applied to each video. From each video a coordinate array and (optionally) movementvideo will be saved. "
   ]
  },
  {
   "cell_type": "markdown",
   "id": "2b563c2d-0ce9-4182-9bd4-7da495e52903",
   "metadata": {},
   "source": [
    "Run the batch function, without saving the coordinate array as compressed archived folder:"
   ]
  },
  {
   "cell_type": "code",
   "execution_count": null,
   "id": "855b6146-75ea-47ef-a086-5a8e271af5e1",
   "metadata": {},
   "outputs": [],
   "source": [
    "%%time\n",
    "md.batch_detect_movement(vfs_list, settings, startat, nframes, roi, nroi, \n",
    "                         bgs_type=bw.BackgroundSubtractorMOG2, analysispath='output/not_archived/', \n",
    "                         ignore_firstnframes=50, overwrite=True, resultvideo=False, \n",
    "                         archived=False, nprocesses=8)"
   ]
  },
  {
   "cell_type": "markdown",
   "id": "977e3fc9-f658-4e33-8e16-8cde3b50e570",
   "metadata": {},
   "source": [
    "The movement data are saved as darr coordinate arrays in the specified directory. You can load and look at the data similarly as shown in notebook 5."
   ]
  },
  {
   "cell_type": "markdown",
   "id": "29fb0767-7e6a-4a0e-8c3e-7f0983488744",
   "metadata": {},
   "source": [
    "### Batch detect movement - archived coords"
   ]
  },
  {
   "cell_type": "markdown",
   "id": "dd1a3117-1a85-4b38-a238-1967fc9e31e5",
   "metadata": {},
   "source": [
    "You can also run batch detect movement in which the coordinates arrays are saved as compressed archived folders (.tar.xz) which might be faster and saves disk memory. This is especially useful when you have a lot of movement data."
   ]
  },
  {
   "cell_type": "markdown",
   "id": "b40c0c95-e036-4257-9022-8283228b3def",
   "metadata": {},
   "source": [
    "Run the batch function, `archived` set as `True`:"
   ]
  },
  {
   "cell_type": "code",
   "execution_count": null,
   "id": "b119d662-6af2-4301-8755-bbc5b5232aa8",
   "metadata": {},
   "outputs": [],
   "source": [
    "%%time\n",
    "md.batch_detect_movement(vfs_list, settings, startat, nframes, roi, nroi, \n",
    "                         bgs_type=bw.BackgroundSubtractorMOG2, analysispath='output/archived/', \n",
    "                         ignore_firstnframes=50, overwrite=True, resultvideo=False,\n",
    "                         archived=True, nprocesses=8)"
   ]
  },
  {
   "cell_type": "code",
   "execution_count": null,
   "id": "7cade1ca-e824-456f-ba8d-9ba15acea02a",
   "metadata": {},
   "outputs": [],
   "source": []
  }
 ],
 "metadata": {
  "kernelspec": {
   "display_name": "Python 3 (ipykernel)",
   "language": "python",
   "name": "python3"
  },
  "language_info": {
   "codemirror_mode": {
    "name": "ipython",
    "version": 3
   },
   "file_extension": ".py",
   "mimetype": "text/x-python",
   "name": "python",
   "nbconvert_exporter": "python",
   "pygments_lexer": "ipython3",
   "version": "3.9.16"
  }
 },
 "nbformat": 4,
 "nbformat_minor": 5
}
