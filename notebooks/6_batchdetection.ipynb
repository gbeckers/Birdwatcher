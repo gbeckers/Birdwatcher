{
 "cells": [
  {
   "cell_type": "markdown",
   "id": "e87c5a1b-aeb1-4246-9db8-86053b391b18",
   "metadata": {},
   "source": [
    "Processing video data often takes quite some time, especially when you have many videos. In this notebook we show some examples of how you could apply movement detection to multiple videos and how to optimize processing speed."
   ]
  },
  {
   "cell_type": "code",
   "execution_count": null,
   "id": "ba84211f-9f4f-4a42-aab2-30cf51561ed0",
   "metadata": {},
   "outputs": [],
   "source": [
    "from pathlib import Path\n",
    "\n",
    "import birdwatcher as bw\n",
    "import birdwatcher.movementdetection as md"
   ]
  },
  {
   "cell_type": "markdown",
   "id": "cd9b250e-0314-47b5-a8de-953f1efc0097",
   "metadata": {},
   "source": [
    "### Select videos and settings"
   ]
  },
  {
   "cell_type": "markdown",
   "id": "82b57cd6-6977-445c-bf5e-9c986c8fddc4",
   "metadata": {},
   "source": [
    "First, specify a directory with all videos you would like to do movement detection on. Make sure the filename extension is correct."
   ]
  },
  {
   "cell_type": "code",
   "execution_count": null,
   "id": "5054c2a4-e49d-48ce-9abc-4c30c9724a78",
   "metadata": {},
   "outputs": [],
   "source": [
    "videodir = '../videos'\n",
    "\n",
    "# create a list of videofilepaths\n",
    "videofilepaths = list(Path(videodir).glob('*.mp4'))\n",
    "videofilepaths"
   ]
  },
  {
   "cell_type": "markdown",
   "id": "a690d495-effd-4cf1-9ae4-70ea55840fbb",
   "metadata": {},
   "source": [
    "Then, load each video as VideoFileStream object into a list:"
   ]
  },
  {
   "cell_type": "code",
   "execution_count": null,
   "id": "6e6995f6-0ec2-47ca-b6ff-a845d74d7fe3",
   "metadata": {},
   "outputs": [],
   "source": [
    "vfs_list = [bw.VideoFileStream(path) for path in videofilepaths]\n",
    "vfs_list"
   ]
  },
  {
   "cell_type": "markdown",
   "id": "9445554f-be1f-40ec-bac6-0f1e990772ce",
   "metadata": {},
   "source": [
    "Specify the settings you want to use for movement detection. Note that these settings will be applied to all videos in the directory!"
   ]
  },
  {
   "cell_type": "code",
   "execution_count": null,
   "id": "ec6ad62d-2e77-438f-a705-391f614e649a",
   "metadata": {},
   "outputs": [],
   "source": [
    "# optional: if you want to do movement detection only on part of the videos\n",
    "startat = '00:00:00'   # in HOURS:MM:SS\n",
    "nframes = None\n",
    "\n",
    "# specify h1, h2, w1, w2, or choose None to use the whole frames\n",
    "roi = None   # region of interest\n",
    "nroi = None   # nót region of interest"
   ]
  },
  {
   "cell_type": "code",
   "execution_count": null,
   "id": "c31c79bb-7c58-490f-a812-2ebeddf3e965",
   "metadata": {},
   "outputs": [],
   "source": [
    "settings = {'bgs_params':  {'History': 3,\n",
    "                            'ComplexityReductionThreshold': 0.05,\n",
    "                            'BackgroundRatio': 0.1,\n",
    "                            'NMixtures': 7,\n",
    "                            'VarInit': 15,\n",
    "                            'VarMin': 10,\n",
    "                            'VarMax': 75,\n",
    "                            'VarThreshold': 70,\n",
    "                            'VarThresholdGen': 9,\n",
    "                            'DetectShadows': False,\n",
    "                            'ShadowThreshold': 0.5,\n",
    "                            'ShadowValue': 0},\n",
    "\n",
    "            'processing':  {'color': False,   # booleans only\n",
    "                            'resizebyfactor': 1,   # use '1' for no change in size\n",
    "                            'blur': 10,   # use '0' for no blur\n",
    "                            'morphologyex': True}}   # booleans only"
   ]
  },
  {
   "cell_type": "markdown",
   "id": "4c1bbae7-ebaa-40dd-b6e8-7bb78f9801cf",
   "metadata": {},
   "source": [
    "### Batch detect movement - normal"
   ]
  },
  {
   "cell_type": "markdown",
   "id": "ddbc65a9-cee7-4e52-83cc-6784ed06fb25",
   "metadata": {},
   "source": [
    "Do movement detection on multiple videos, in which the same parameters values will be applied to each video. From each video a coordinate array and (optionally) movementvideo will be saved. "
   ]
  },
  {
   "cell_type": "markdown",
   "id": "2b563c2d-0ce9-4182-9bd4-7da495e52903",
   "metadata": {},
   "source": [
    "Run the batch function, without saving the coordinate array as compressed archived folder:"
   ]
  },
  {
   "cell_type": "code",
   "execution_count": null,
   "id": "855b6146-75ea-47ef-a086-5a8e271af5e1",
   "metadata": {},
   "outputs": [],
   "source": [
    "%%time\n",
    "md.batch_detect_movement(vfs_list, settings, startat, nframes, roi, nroi, \n",
    "                         bgs_type=bw.BackgroundSubtractorMOG2, analysispath='output/not_archived/', \n",
    "                         ignore_firstnframes=50, overwrite=True, resultvideo=False, \n",
    "                         archived=False, nprocesses=8)"
   ]
  },
  {
   "cell_type": "markdown",
   "id": "977e3fc9-f658-4e33-8e16-8cde3b50e570",
   "metadata": {},
   "source": [
    "The movement data are saved as darr coordinate arrays in the specified directory. You can load and look at the data similarly as shown in notebook 5."
   ]
  },
  {
   "cell_type": "markdown",
   "id": "29fb0767-7e6a-4a0e-8c3e-7f0983488744",
   "metadata": {},
   "source": [
    "### Batch detect movement - archived coords"
   ]
  },
  {
   "cell_type": "markdown",
   "id": "dd1a3117-1a85-4b38-a238-1967fc9e31e5",
   "metadata": {},
   "source": [
    "You can also run batch detect movement in which the coordinates arrays are saved as compressed archived folders (.tar.xz) which might be faster and saves disk memory. This is especially useful when you have a lot of movement data."
   ]
  },
  {
   "cell_type": "markdown",
   "id": "b40c0c95-e036-4257-9022-8283228b3def",
   "metadata": {},
   "source": [
    "Run the batch function, `archived` set as `True`:"
   ]
  },
  {
   "cell_type": "code",
   "execution_count": null,
   "id": "b119d662-6af2-4301-8755-bbc5b5232aa8",
   "metadata": {},
   "outputs": [],
   "source": [
    "%%time\n",
    "md.batch_detect_movement(vfs_list, settings, startat, nframes, roi, nroi, \n",
    "                         bgs_type=bw.BackgroundSubtractorMOG2, analysispath='output/archived/', \n",
    "                         ignore_firstnframes=50, overwrite=True, resultvideo=False,\n",
    "                         archived=True, nprocesses=8)"
   ]
  },
  {
   "cell_type": "markdown",
   "id": "50ff276f-618d-4bf5-864c-f5419978dd96",
   "metadata": {},
   "source": [
    "### Open archived coordinates array"
   ]
  },
  {
   "cell_type": "markdown",
   "id": "1733434c-a252-4dcb-ba09-e5ab00425f48",
   "metadata": {},
   "source": [
    "When you've used batch detect movement and saved the coordinate arrays as archived data folders , you'll need to unpack the compressed coordinate array first before you can look at the data. "
   ]
  },
  {
   "cell_type": "markdown",
   "id": "4a358df9-baaf-40bb-aea4-bf98754e29f9",
   "metadata": {},
   "source": [
    "#### Using a context manager"
   ]
  },
  {
   "cell_type": "markdown",
   "id": "76170198-7fcb-4d97-ae03-2a1a5fdbbdc6",
   "metadata": {},
   "source": [
    "One way to do that is by temporarily decompressing the coordinate data using a context manager, do some stuff with the data, and at the end of the cell, the decompressed coordinate data is removed again."
   ]
  },
  {
   "cell_type": "code",
   "execution_count": null,
   "id": "e4a05af5-bf2a-4be1-9ac3-762c159ecf26",
   "metadata": {},
   "outputs": [],
   "source": [
    "movementpath = 'output/archived/movement_zf20s_low'\n",
    "\n",
    "with bw.open_archivedcoordinatedata(f'{movementpath}/coords.darr.tar.xz') as coords:\n",
    "    # Here you can do whether you want with the data, such as:\n",
    "    coordscount = coords.get_coordcount()\n",
    "    coordsmean = coords.get_coordmean()"
   ]
  },
  {
   "cell_type": "code",
   "execution_count": null,
   "id": "39cafe09-d8d8-48b1-90f9-045920bba653",
   "metadata": {},
   "outputs": [],
   "source": [
    "type(coordscount)"
   ]
  },
  {
   "cell_type": "markdown",
   "id": "24631d35-3196-4bce-9ffa-b12fe2ff1303",
   "metadata": {},
   "source": [
    "Now you can look at coordscount and coordsmean, but you don't have access to the raw coordinate array anymore. Using this methods limits memory usage."
   ]
  },
  {
   "cell_type": "markdown",
   "id": "ffa69a5a-c9a1-435a-b117-4ce707b9d159",
   "metadata": {},
   "source": [
    "#### Decompress archived coords"
   ]
  },
  {
   "cell_type": "markdown",
   "id": "81aef5f1-431c-4377-82c1-ed7819031e09",
   "metadata": {},
   "source": [
    "Another option is to decompress the archived darr array to be able to access the coordinate data normally."
   ]
  },
  {
   "cell_type": "code",
   "execution_count": null,
   "id": "3e328e8a-95a9-4485-bdda-3fad4f6c7eaf",
   "metadata": {},
   "outputs": [],
   "source": [
    "movementpath = 'output/archived/movement_zf20s_low'\n",
    "\n",
    "coords = bw.extract_archivedcoordinatedata(f'{movementpath}/coords.darr.tar.xz')"
   ]
  },
  {
   "cell_type": "markdown",
   "id": "9854794d-680b-4fc2-aa93-1e71c355c356",
   "metadata": {},
   "source": [
    "Now, the archived coordinate array is decompressed and you can access it normally:"
   ]
  },
  {
   "cell_type": "code",
   "execution_count": null,
   "id": "9dfadee0-4287-4dab-ad74-0dea02a15b00",
   "metadata": {},
   "outputs": [],
   "source": [
    "coords.show(framerate=25)"
   ]
  },
  {
   "cell_type": "markdown",
   "id": "2540b48a-0a0e-4279-9735-67ee484c6c22",
   "metadata": {},
   "source": [
    "When you're at the end of the notebook, you could delete the coordinates array again to save disk memory. The archived coordinate array will still be there, which you can always open again."
   ]
  },
  {
   "cell_type": "code",
   "execution_count": null,
   "id": "2c202f68-d3a4-45df-a730-434a8431b9b6",
   "metadata": {},
   "outputs": [],
   "source": [
    "bw.delete_coordinatearray(f'{movementpath}/coords.darr')"
   ]
  },
  {
   "cell_type": "code",
   "execution_count": null,
   "id": "7cade1ca-e824-456f-ba8d-9ba15acea02a",
   "metadata": {},
   "outputs": [],
   "source": []
  }
 ],
 "metadata": {
  "kernelspec": {
   "display_name": "Python 3 (ipykernel)",
   "language": "python",
   "name": "python3"
  },
  "language_info": {
   "codemirror_mode": {
    "name": "ipython",
    "version": 3
   },
   "file_extension": ".py",
   "mimetype": "text/x-python",
   "name": "python",
   "nbconvert_exporter": "python",
   "pygments_lexer": "ipython3",
   "version": "3.13.2"
  }
 },
 "nbformat": 4,
 "nbformat_minor": 5
}
