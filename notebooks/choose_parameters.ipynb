{
 "cells": [
  {
   "cell_type": "markdown",
   "id": "c25aad0b-650b-451b-b26d-3a118939caab",
   "metadata": {},
   "source": [
    "To detect movements in a video, we use background substration. There are many different background substraction algorithms, and each algorithm has various parameters. You can use the default parameter settings in Birdwatcher, but you can also modify the parameters and optimize these for your own videos.\n",
    "\n",
    "This notebook can be used to play around with all options and various parameters settings of background substraction algorithms when using Birdwatcher for movement detection, and see how this influences the results."
   ]
  },
  {
   "cell_type": "code",
   "execution_count": null,
   "id": "bbf1bc75-f463-48ff-b040-42acf78b1f9c",
   "metadata": {},
   "outputs": [],
   "source": [
    "import birdwatcher as bw\n",
    "from birdwatcher.plotting import imshow_frame # birdwatcher has vizualization tools\n",
    "%matplotlib inline"
   ]
  },
  {
   "cell_type": "markdown",
   "id": "fbd81528-f308-4d16-8820-948ab9379c34",
   "metadata": {},
   "source": [
    "### Select video fragment"
   ]
  },
  {
   "cell_type": "code",
   "execution_count": null,
   "id": "a579b599-96dd-4deb-ade6-2dabb8c672d2",
   "metadata": {},
   "outputs": [],
   "source": [
    "vfs = bw.VideoFileStream(r'..\\videos\\zebrafinch.MTS')"
   ]
  },
  {
   "cell_type": "markdown",
   "id": "7f1709e7-b855-452e-a1d3-369db3a82086",
   "metadata": {},
   "source": [
    "Choose a short representative video fragment where the object of interest is moving quite a lot."
   ]
  },
  {
   "cell_type": "code",
   "execution_count": null,
   "id": "659648f9-a56a-462b-8487-28bb92927191",
   "metadata": {},
   "outputs": [],
   "source": [
    "# insert starttime (in HOURS:MM:SS) for video fragment\n",
    "starttime = '00:02:10'\n",
    "\n",
    "# select 20 seconds of video frames \n",
    "frames = vfs.iter_frames(startat=starttime, nframes=vfs.avgframerate*20)\n",
    "\n",
    "frames.show(framerate=vfs.avgframerate)"
   ]
  },
  {
   "cell_type": "code",
   "execution_count": null,
   "id": "2fd5714b-d59b-4d04-aa3b-c6a24008b5cf",
   "metadata": {},
   "outputs": [],
   "source": []
  }
 ],
 "metadata": {
  "kernelspec": {
   "display_name": "Python 3 (ipykernel)",
   "language": "python",
   "name": "python3"
  },
  "language_info": {
   "codemirror_mode": {
    "name": "ipython",
    "version": 3
   },
   "file_extension": ".py",
   "mimetype": "text/x-python",
   "name": "python",
   "nbconvert_exporter": "python",
   "pygments_lexer": "ipython3",
   "version": "3.8.13"
  }
 },
 "nbformat": 4,
 "nbformat_minor": 5
}
