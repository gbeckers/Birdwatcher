{
 "cells": [
  {
   "cell_type": "markdown",
   "id": "c25aad0b-650b-451b-b26d-3a118939caab",
   "metadata": {},
   "source": [
    "To detect movements in a video, we use background subtraction. There are many different background subtraction algorithms, and each algorithm has various parameters. You can use the default parameter settings in Birdwatcher, but you can also modify the parameters and optimize these for your own videos.\n",
    "\n",
    "This notebook can be used to play around with all options and various parameters settings of background subtraction algorithms when using Birdwatcher for movement detection, and see how this influences the results."
   ]
  },
  {
   "cell_type": "code",
   "execution_count": null,
   "id": "bbf1bc75-f463-48ff-b040-42acf78b1f9c",
   "metadata": {},
   "outputs": [],
   "source": [
    "import itertools\n",
    "import numpy as np\n",
    "import pandas as pd\n",
    "import seaborn as sns\n",
    "import matplotlib.pyplot as plt\n",
    "\n",
    "import birdwatcher as bw\n",
    "from birdwatcher.plotting import imshow_frame # birdwatcher has vizualization tools\n",
    "%matplotlib inline"
   ]
  },
  {
   "cell_type": "markdown",
   "id": "fbd81528-f308-4d16-8820-948ab9379c34",
   "metadata": {},
   "source": [
    "### Select video fragment"
   ]
  },
  {
   "cell_type": "code",
   "execution_count": null,
   "id": "a579b599-96dd-4deb-ade6-2dabb8c672d2",
   "metadata": {},
   "outputs": [],
   "source": [
    "vfs = bw.VideoFileStream(r'..\\videos\\zebrafinch.MTS')"
   ]
  },
  {
   "cell_type": "markdown",
   "id": "7f1709e7-b855-452e-a1d3-369db3a82086",
   "metadata": {},
   "source": [
    "Choose a short representative video fragment where the object of interest is moving quite a lot."
   ]
  },
  {
   "cell_type": "code",
   "execution_count": null,
   "id": "bf0f8892-72d5-485d-be1f-76c629afb567",
   "metadata": {},
   "outputs": [],
   "source": [
    "starttime = '00:02:10'   # in HOURS:MM:SS\n",
    "duration = 20            # seconds\n",
    "\n",
    "vfs_fragment = (vfs.iter_frames(startat=starttime, nframes=vfs.avgframerate*duration)\n",
    "                .tovideo('output/videofragment.MTS', framerate=vfs.avgframerate))"
   ]
  },
  {
   "cell_type": "code",
   "execution_count": null,
   "id": "24d4f67f-2590-46b3-ac22-66ce427d1520",
   "metadata": {},
   "outputs": [],
   "source": [
    "# or load video fragment directly from disk\n",
    "vfs_fragment = bw.VideoFileStream(r'output/videofragment.MTS')"
   ]
  },
  {
   "cell_type": "code",
   "execution_count": null,
   "id": "d6077e13-76c9-4682-8df9-36c97a2475d7",
   "metadata": {},
   "outputs": [],
   "source": [
    "# vfs_fragment.show(framerate=150)"
   ]
  },
  {
   "cell_type": "markdown",
   "id": "cf1d975d-9b23-4c22-80fa-78825e107720",
   "metadata": {},
   "source": [
    "### Choose parameters"
   ]
  },
  {
   "cell_type": "markdown",
   "id": "989080a8-6501-485c-ac0a-9dca188e17f1",
   "metadata": {},
   "source": [
    "In this example, we will use background subtraction MOG2, and try to find parameter values for this algorithm. Also some manipulations before or after performing background subtraction might improve location detection, and therefore, you can also determine the settings of those."
   ]
  },
  {
   "cell_type": "markdown",
   "id": "0d86db43-7090-4fec-9f2f-8c247e68b8f0",
   "metadata": {},
   "source": [
    "First, decide which settings you would like, by adding various values in the list after each parameter. "
   ]
  },
  {
   "cell_type": "code",
   "execution_count": null,
   "id": "ad5f3c82-8892-48b4-9664-86a8efa101a5",
   "metadata": {},
   "outputs": [],
   "source": [
    "bgs_params = {'History': [4, 8, 12],\n",
    "              'ComplexityReductionThreshold': [0.05],\n",
    "              'BackgroundRatio': [0.1],\n",
    "              'NMixtures': [7],\n",
    "              'VarInit': [15],\n",
    "              'VarMin': [4],\n",
    "              'VarMax': [75],\n",
    "              'VarThreshold': [10],\n",
    "              'VarThresholdGen': [9],\n",
    "              'DetectShadows': [False],\n",
    "              'ShadowThreshold': [0.5],\n",
    "              'ShadowValue': [127]}\n",
    "\n",
    "other_settings = {'color': [True, False],   # booleans only\n",
    "                  'resizebyfactor': [1, (2/3), (1/3)],   # use '1' for no change in size\n",
    "                  'blur': [1, 5, 10],   # use '1' for no blur\n",
    "                  'morphologyex': [True, False]}   # booleans only}"
   ]
  },
  {
   "cell_type": "code",
   "execution_count": null,
   "id": "fad3dad2-f896-4848-b405-a6672d10cba7",
   "metadata": {},
   "outputs": [],
   "source": [
    "all_combinations = bw.get_all_combinations(**bgs_params, **other_settings)\n",
    "print(f'There are {len(all_combinations)} different combinations of settings to perform movement detection.')"
   ]
  },
  {
   "cell_type": "markdown",
   "id": "8385f831-e9da-4344-a42f-7050353bb213",
   "metadata": {},
   "source": [
    "The higher the number of combinations, the longer the next step (running movement detection) will take. Another option is to start by tweaking some parameters with larger steps of parameter values, and fine-tune the values in next rounds."
   ]
  },
  {
   "cell_type": "markdown",
   "id": "51d86475-5e5e-4af8-ac8d-3f8b33f2599d",
   "metadata": {},
   "source": [
    "### Run movemement detection per combination of settings"
   ]
  },
  {
   "cell_type": "markdown",
   "id": "91da47a1-4d92-4afa-976a-cae814d21be8",
   "metadata": {},
   "source": [
    "Movement detection is done for each combination of settings, and the mean coordinate per frame is saved in a Pandas dataframe."
   ]
  },
  {
   "cell_type": "markdown",
   "id": "6ba40a81-3d53-4f08-a6a5-19e1aaf81bd3",
   "metadata": {},
   "source": [
    "**WARNING:** This step might take a while, depending on the number of settings combinations!"
   ]
  },
  {
   "cell_type": "code",
   "execution_count": null,
   "id": "22d9df29-1c98-40df-8f6d-d439327317fa",
   "metadata": {},
   "outputs": [],
   "source": [
    "df = bw.apply_all_parameters(vfs_fragment, bgs_params, other_settings)\n",
    "df"
   ]
  },
  {
   "cell_type": "markdown",
   "id": "e33bdcd9-7535-4e48-8c3c-60c4bd7a95e2",
   "metadata": {},
   "source": [
    "Here, you see a pandas dataframe with in the columns all parameters that are used to run movement detection. The rows show the specific value of each parameter and the resulted mean x,y coordinates per frame (NaN means there were no nonzero pixels found for that frame). "
   ]
  },
  {
   "cell_type": "markdown",
   "id": "af900bf3-c6a5-4f81-86ac-654cf633aa31",
   "metadata": {},
   "source": [
    "### Save/load Dataframe"
   ]
  },
  {
   "cell_type": "markdown",
   "id": "7c452ff3-dd1f-4eb1-8e1b-aa563fd9e4a5",
   "metadata": {},
   "source": [
    "Save the results as csv file, to be able to load the dataframe later without running all movement detections per setting combination again!"
   ]
  },
  {
   "cell_type": "code",
   "execution_count": null,
   "id": "c9796e38-be78-49d7-ac53-a73547d0cb03",
   "metadata": {},
   "outputs": [],
   "source": [
    "# save DataFrame\n",
    "df_long.to_csv(f'output/{vfs_fragment.filepath.stem}_parameters.csv', index=False)"
   ]
  },
  {
   "cell_type": "code",
   "execution_count": null,
   "id": "563df4aa-1df6-4f2a-a068-93e353b7ec71",
   "metadata": {},
   "outputs": [],
   "source": [
    "# load DataFrame\n",
    "df_long = pd.read_csv(f'output/{vfs_fragment.filepath.stem}_parameters.csv', engine='python')"
   ]
  },
  {
   "cell_type": "code",
   "execution_count": null,
   "id": "3c5605f5-4fd6-4cc1-87de-eb8340c1f6d8",
   "metadata": {},
   "outputs": [],
   "source": [
    "df_long.head()"
   ]
  },
  {
   "cell_type": "markdown",
   "id": "2069949c-0544-4007-ab1a-592c6ad8d5df",
   "metadata": {},
   "source": [
    "### Correction resizebyfactor"
   ]
  },
  {
   "cell_type": "markdown",
   "id": "aecd1ecc-7e79-42aa-bd2a-32d049745693",
   "metadata": {},
   "source": [
    "Setting 'resizebyfactor' changes the width and height of the frames. Below, we correct for this change in pixel resolution, so that it's easier to see and compare the effects of different settings on the movementdetection results below."
   ]
  },
  {
   "cell_type": "code",
   "execution_count": null,
   "id": "94a03a31-bf90-4457-a7b3-dda961100605",
   "metadata": {},
   "outputs": [],
   "source": [
    "df_long['pixel'] = df_long['pixel'] / df_long['resizebyfactor']\n",
    "df_long.head()"
   ]
  },
  {
   "cell_type": "markdown",
   "id": "e5df1e6e-86af-41b4-a876-672e3de643db",
   "metadata": {},
   "source": [
    "### Visualize results"
   ]
  },
  {
   "cell_type": "code",
   "execution_count": null,
   "id": "f65ccaa1-c629-40db-996b-70d979b606cc",
   "metadata": {},
   "outputs": [],
   "source": [
    "def select_data(df, **kwargs):\n",
    "    \n",
    "    for key, value in kwargs.items():\n",
    "        df = df.loc[df[key]==value]\n",
    "        \n",
    "    return df"
   ]
  },
  {
   "cell_type": "markdown",
   "id": "e74dfa98-038c-456f-8249-0ed3e1d4c07a",
   "metadata": {},
   "source": [
    "Before visualizing the results, look at which settings you could compare."
   ]
  },
  {
   "cell_type": "code",
   "execution_count": null,
   "id": "d42a7943-f836-48e8-b9d7-6047f5aecc27",
   "metadata": {},
   "outputs": [],
   "source": [
    "# the following settings have been used for backgroundsubstraction in this dataframe\n",
    "all_settings = {k:list(df_long[k].unique()) for k in {**bgs_params, **other_settings}.keys()}\n",
    "all_settings"
   ]
  },
  {
   "cell_type": "code",
   "execution_count": null,
   "id": "64546914-8643-4e07-b2c5-789c2bfed539",
   "metadata": {},
   "outputs": [],
   "source": [
    "# the following settings have been tested with multiple values\n",
    "settings = {k:all_settings[k] for k in all_settings.keys() if len(all_settings[k])>1}\n",
    "settings"
   ]
  },
  {
   "cell_type": "markdown",
   "id": "260dfaf1-26d0-4192-b497-297fe5dae7d6",
   "metadata": {},
   "source": [
    "Here, you see for which settings multiple values have been used to run movement detection. So, these are also the settings that are interesting to compare in plots or superimpose on the video fragment."
   ]
  },
  {
   "cell_type": "markdown",
   "id": "810b7d5e-5e18-40de-8d80-e4bd16d71cb5",
   "metadata": {},
   "source": [
    "#### Plots"
   ]
  },
  {
   "cell_type": "code",
   "execution_count": null,
   "id": "c941c44a-a790-4886-8867-eb436c10bc59",
   "metadata": {},
   "outputs": [],
   "source": [
    "def plot_settings(rows, cols, default_values):\n",
    "    \n",
    "    other_values = {key:default_values[key] for key in default_values.keys()-[rows, cols]}\n",
    "    df_selection = select_data(df_long, **other_values)\n",
    "    \n",
    "    # plot with seaborn\n",
    "    g = sns.relplot(x=\"framenumber\", y=\"pixel\", hue=\"coords\", style=None, \n",
    "                    col=cols, row=rows, kind=\"line\", data=df_selection, \n",
    "                    height=3, aspect=2)\n",
    "    g.figure.suptitle(str(other_values), fontsize=15, x=0.51, y=1.05)\n",
    "    \n",
    "    return g"
   ]
  },
  {
   "cell_type": "markdown",
   "id": "f2be4f4d-d320-4487-b59c-0ff4cd73930f",
   "metadata": {},
   "source": [
    "You can plot the effect of two settings on the results of location detection in one figure. The different values of one settings is outlined in the rows and the other in the columns of the subplots."
   ]
  },
  {
   "cell_type": "code",
   "execution_count": null,
   "id": "3bdeb9d9-415a-4c06-87c1-f6aecd1b39c7",
   "metadata": {},
   "outputs": [],
   "source": [
    "rows = 'ShadowValue'\n",
    "cols = 'NMixtures'\n",
    "\n",
    "default_values = {'History': 12,\n",
    "                  'BackgroundRatio': 0.1,\n",
    "                  'NMixtures': 3,\n",
    "                  'VarThreshold': 70,\n",
    "                  'DetectShadows': True,\n",
    "                  'ShadowValue': 0}\n",
    "\n",
    "g = plot_settings(rows, cols, default_values)"
   ]
  },
  {
   "cell_type": "code",
   "execution_count": null,
   "id": "ade1fed7-9dfc-4c53-bc43-a4c203fc5360",
   "metadata": {},
   "outputs": [],
   "source": [
    "# save figure\n",
    "g.savefig(f'output/figures/{vfs_fragment.filepath.stem}_{cols}_{rows}.tiff', bbox_inches='tight', dpi=300)"
   ]
  },
  {
   "cell_type": "markdown",
   "id": "d4d91041-6898-43dc-b927-e59e7bd9e391",
   "metadata": {},
   "source": [
    "If you want to save the plots of all combinations of settings, use the function below."
   ]
  },
  {
   "cell_type": "code",
   "execution_count": null,
   "id": "4910d270-f0f9-4e8d-bb19-c9bc720c4a97",
   "metadata": {},
   "outputs": [],
   "source": [
    "def batch_plot_settings(settings, default_values, figpath='output/'):\n",
    "\n",
    "    for cols, _ in settings.items():\n",
    "        for rows, values in settings.items():\n",
    "            \n",
    "            if rows != cols:\n",
    "                other_values = {key:default_values[key] for key in default_values.keys()-[rows, cols]}\n",
    "                df_selection = select_data(df_long, **other_values)\n",
    "\n",
    "                # plot with seaborn\n",
    "                g = sns.relplot(x=\"framenumber\", y=\"pixel\", hue=\"coords\", style=style, \n",
    "                                col=cols, row=rows, kind=\"line\", data=df_selection, \n",
    "                                height=3, aspect=2)\n",
    "                g.figure.suptitle(str(other_values), fontsize=15, x=0.51, y=1.05)\n",
    "\n",
    "                # save figure\n",
    "                g.savefig(f'{figpath}{vfs_fragment.filepath.stem}_{cols}_{rows}.tiff', bbox_inches='tight', dpi=150)\n",
    "\n",
    "                # close figure\n",
    "                plt.close(g.figure)"
   ]
  },
  {
   "cell_type": "code",
   "execution_count": null,
   "id": "53698f3d-70e7-4739-9937-3fbc2d77c6e5",
   "metadata": {},
   "outputs": [],
   "source": [
    "batch_plot_settings(settings, default_values, figpath='output/figures/')"
   ]
  },
  {
   "cell_type": "markdown",
   "id": "b1f30d74-5ec0-40b8-83fd-059db462f2e5",
   "metadata": {},
   "source": [
    "#### Superimpose on video"
   ]
  },
  {
   "cell_type": "code",
   "execution_count": null,
   "id": "ccd6de26-b91e-48df-b0b7-252efc6bb053",
   "metadata": {},
   "outputs": [],
   "source": [
    "# colors in BGR\n",
    "colors = [('blue', [255, 0, 0]),\n",
    "          ('orange', [0, 100, 255]),\n",
    "          ('red', [0, 0, 255]),\n",
    "          ('lime', [0, 255, 0])]"
   ]
  },
  {
   "cell_type": "markdown",
   "id": "bacb5574-022f-465b-bde1-815e8caba30c",
   "metadata": {},
   "source": [
    "You can add other colors or change the order of colors in the list. Note that the number of colors defined, is also the maximum number of circles you can draw in the video."
   ]
  },
  {
   "cell_type": "code",
   "execution_count": null,
   "id": "d998cc74-af96-4b93-9886-012b9a573a47",
   "metadata": {},
   "outputs": [],
   "source": [
    "# choose which settings to compare\n",
    "compare = {'History': [4, 8, 12]}\n",
    "\n",
    "# choose for the other settings with multiple values, which value you would like to use for this comparison\n",
    "other_values = {'color': True,\n",
    "                'resizebyfactor': 1,\n",
    "                'blur': 1,\n",
    "                'morphologyex': True}\n",
    "\n",
    "df_selection = select_data(df_long, **other_values)\n",
    "\n",
    "all_combinations = list(product_dict(**compare))\n",
    "print(f'There are {len(all_combinations)} combinations of settings to superimpose on a video.')"
   ]
  },
  {
   "cell_type": "code",
   "execution_count": null,
   "id": "62071087-ecfa-4fa7-8579-c1cc59ae8cb6",
   "metadata": {},
   "outputs": [],
   "source": [
    "def draw_multiple_circles(frames, df, compare, colors):\n",
    "    \n",
    "    for i, settings in enumerate(product_dict(**compare)):\n",
    "        colorname = colors[i][0]\n",
    "        colorcode = colors[i][1]\n",
    "        print(f\"{colorname} circle: {settings}\")\n",
    "\n",
    "        # select data\n",
    "        df = select_data(df_selection, **settings)\n",
    "\n",
    "        # transform into iterable\n",
    "        iterdata = df.set_index(['framenumber', 'coords']).loc[:, 'pixel'].unstack().values\n",
    "\n",
    "        frames = frames.draw_circles(iterdata, radius=60, color=colorcode)\n",
    "    \n",
    "    return frames"
   ]
  },
  {
   "cell_type": "code",
   "execution_count": null,
   "id": "62d63754-decc-4705-a232-912478b9e9ec",
   "metadata": {},
   "outputs": [],
   "source": [
    "frames = vfs_fragment.iter_frames().draw_framenumbers()\n",
    "frames = draw_multiple_circles(frames, df_selection, compare, colors)"
   ]
  },
  {
   "cell_type": "code",
   "execution_count": null,
   "id": "43dc1785-c4db-4b1a-affb-97c868727e19",
   "metadata": {},
   "outputs": [],
   "source": [
    "# look at the video using show()\n",
    "frames.show(framerate=100)"
   ]
  },
  {
   "cell_type": "code",
   "execution_count": null,
   "id": "be15b7d5-e18e-4399-9a69-8e56bd73a670",
   "metadata": {},
   "outputs": [],
   "source": [
    "# or, save video with circles superimposed\n",
    "videoname = vfs_fragment.filepath.stem\n",
    "vfs_circles = frames.tovideo(f'output/{videoname}_multicircles.MTS', framerate=vfs.avgframerate)"
   ]
  },
  {
   "cell_type": "markdown",
   "id": "f29d0304-de2b-437e-a13a-21d93252f25f",
   "metadata": {},
   "source": [
    "It is also possible to get a gradient of the same color. This might be useful if you want to plot circles of different values of the same setting."
   ]
  },
  {
   "cell_type": "code",
   "execution_count": null,
   "id": "c7f38ba6-57eb-4186-bb76-19278fba5c96",
   "metadata": {},
   "outputs": [],
   "source": [
    "import cv2 as cv\n",
    "\n",
    "def get_darker_color(color):\n",
    "    \"\"\"Get a darker color by decreasing the color value.\n",
    "    \n",
    "    color: list of ints\n",
    "        Should be provided in BGR color space (Blue, Green, Red).\n",
    "    \n",
    "    \"\"\"\n",
    "    \n",
    "    bgr = np.uint8([[color]])\n",
    "    hsv = cv.cvtColor(bgr ,cv.COLOR_BGR2HSV)\n",
    "    hsv[0][0][2] = hsv[0][0][2] - 50\n",
    "    new_bgr = cv.cvtColor(hsv ,cv.COLOR_HSV2BGR)\n",
    "    \n",
    "    return new_bgr[0][0].tolist()\n",
    "\n",
    "\n",
    "def get_color_gradientlist(colorname='blue', color=[255, 0, 0]):\n",
    "    \n",
    "    gradientlist = [(colorname, color)]\n",
    "    \n",
    "    for i in range(1,5):\n",
    "        color = get_darker_color(color)\n",
    "        new_name = f'{i}x darker {colorname}'        \n",
    "        gradientlist.append((new_name, color))\n",
    "    \n",
    "    return gradientlist"
   ]
  },
  {
   "cell_type": "code",
   "execution_count": null,
   "id": "4af081fc-40d6-47ef-a990-3cdc77f5cffd",
   "metadata": {},
   "outputs": [],
   "source": [
    "blue_colors = get_color_gradientlist(colorname='blue', color=[255, 0, 0])\n",
    "blue_colors"
   ]
  },
  {
   "cell_type": "markdown",
   "id": "781e5b88-22bb-4dc6-8fc8-9350c0f21368",
   "metadata": {},
   "source": [
    "Note, that there is a maximum of 5 circles."
   ]
  },
  {
   "cell_type": "code",
   "execution_count": null,
   "id": "16710dcf-a367-4c99-891d-01d345b5cd98",
   "metadata": {},
   "outputs": [],
   "source": [
    "frames = vfs_fragment.iter_frames().draw_framenumbers()\n",
    "frames = draw_multiple_circles(frames, df_selection, compare, blue_colors)"
   ]
  },
  {
   "cell_type": "code",
   "execution_count": null,
   "id": "ddd94383-64df-408f-b8dc-a03d91b1b79f",
   "metadata": {},
   "outputs": [],
   "source": [
    "# look at the video using show()\n",
    "frames.show(framerate=100)"
   ]
  },
  {
   "cell_type": "code",
   "execution_count": null,
   "id": "c5cd7b9f-ad18-41b5-969d-b95c40f6768f",
   "metadata": {},
   "outputs": [],
   "source": []
  }
 ],
 "metadata": {
  "kernelspec": {
   "display_name": "Python 3 (ipykernel)",
   "language": "python",
   "name": "python3"
  },
  "language_info": {
   "codemirror_mode": {
    "name": "ipython",
    "version": 3
   },
   "file_extension": ".py",
   "mimetype": "text/x-python",
   "name": "python",
   "nbconvert_exporter": "python",
   "pygments_lexer": "ipython3",
   "version": "3.9.16"
  }
 },
 "nbformat": 4,
 "nbformat_minor": 5
}
