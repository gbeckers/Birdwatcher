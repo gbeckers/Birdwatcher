{
 "cells": [
  {
   "cell_type": "markdown",
   "metadata": {},
   "source": [
    "This notebook shows the basic steps that are involved in movement detection. Much of what's in here can be encaspulated by higher-order functions or classes, but if you want to have full control over things, have a look at the following."
   ]
  },
  {
   "cell_type": "code",
   "execution_count": 1,
   "metadata": {
    "collapsed": true
   },
   "outputs": [],
   "source": [
    "import birdwatcher as bw"
   ]
  },
  {
   "cell_type": "markdown",
   "metadata": {},
   "source": [
    "## Create a background subtractor object with suitable parameters"
   ]
  },
  {
   "cell_type": "markdown",
   "metadata": {},
   "source": [
    "Create a background subtractor object with default parameters. This object basically encapsulates the algorithm that determines the background from a history of images, and uses that to find what is not background in the current image."
   ]
  },
  {
   "cell_type": "code",
   "execution_count": 2,
   "metadata": {
    "collapsed": true
   },
   "outputs": [],
   "source": [
    "bgs = bw.BackgroundSubtractorMOG2()"
   ]
  },
  {
   "cell_type": "markdown",
   "metadata": {},
   "source": [
    "What are the parameters?"
   ]
  },
  {
   "cell_type": "code",
   "execution_count": 3,
   "metadata": {},
   "outputs": [
    {
     "data": {
      "text/plain": [
       "{'BackgroundRatio': 0.10000000149011612,\n",
       " 'ComplexityReductionThreshold': 0.05000000074505806,\n",
       " 'History': 5,\n",
       " 'NMixtures': 7,\n",
       " 'ShadowThreshold': 0.5,\n",
       " 'ShadowValue': 127,\n",
       " 'VarInit': 15.0,\n",
       " 'VarMax': 75.0,\n",
       " 'VarMin': 4.0,\n",
       " 'VarThreshold': 10.0,\n",
       " 'VarThresholdGen': 9.0,\n",
       " 'class': \"<class 'birdwatcher.movementdetection.BackgroundSubtractorMOG2'>\"}"
      ]
     },
     "execution_count": 3,
     "metadata": {},
     "output_type": "execute_result"
    }
   ],
   "source": [
    "bgs.get_params()"
   ]
  },
  {
   "cell_type": "markdown",
   "metadata": {},
   "source": [
    "Let's change two of them:"
   ]
  },
  {
   "cell_type": "code",
   "execution_count": 4,
   "metadata": {
    "collapsed": true
   },
   "outputs": [],
   "source": [
    "bgs.set_params(VarThreshold=70, NMixtures=8)"
   ]
  },
  {
   "cell_type": "code",
   "execution_count": 5,
   "metadata": {},
   "outputs": [
    {
     "data": {
      "text/plain": [
       "{'BackgroundRatio': 0.10000000149011612,\n",
       " 'ComplexityReductionThreshold': 0.05000000074505806,\n",
       " 'History': 5,\n",
       " 'NMixtures': 8,\n",
       " 'ShadowThreshold': 0.5,\n",
       " 'ShadowValue': 127,\n",
       " 'VarInit': 15.0,\n",
       " 'VarMax': 75.0,\n",
       " 'VarMin': 4.0,\n",
       " 'VarThreshold': 70.0,\n",
       " 'VarThresholdGen': 9.0,\n",
       " 'class': \"<class 'birdwatcher.movementdetection.BackgroundSubtractorMOG2'>\"}"
      ]
     },
     "execution_count": 5,
     "metadata": {},
     "output_type": "execute_result"
    }
   ],
   "source": [
    "bgs.get_params()"
   ]
  },
  {
   "cell_type": "markdown",
   "metadata": {},
   "source": [
    "This could also have been done at intstantiation:"
   ]
  },
  {
   "cell_type": "code",
   "execution_count": 6,
   "metadata": {
    "collapsed": true
   },
   "outputs": [],
   "source": [
    "bgs = bw.BackgroundSubtractorMOG2(VarThreshold=70, NMixtures=8)"
   ]
  },
  {
   "cell_type": "markdown",
   "metadata": {},
   "source": [
    "## Create a movement detector object based on this background subtractor"
   ]
  },
  {
   "cell_type": "markdown",
   "metadata": {},
   "source": [
    "A movement detector object is used so detect movement, based on a supplied background subtractor. There are some convenient parameters to focus on specific parts of an image, for example."
   ]
  },
  {
   "cell_type": "code",
   "execution_count": 7,
   "metadata": {
    "collapsed": true
   },
   "outputs": [],
   "source": [
    "movementdector = bw.MovementDetector(bgsubtractor=bgs, learningrate=-1, ignore_firstnframes=0, \n",
    "                 focus_rectcoord=None, ignore_rectcoord=None, downscale=None, morphologyex=2)"
   ]
  },
  {
   "cell_type": "markdown",
   "metadata": {},
   "source": [
    "## Create a video object (see separate notebook on this)"
   ]
  },
  {
   "cell_type": "code",
   "execution_count": 8,
   "metadata": {
    "collapsed": true
   },
   "outputs": [],
   "source": [
    "vf = bw.testvideosmall()"
   ]
  },
  {
   "cell_type": "markdown",
   "metadata": {},
   "source": [
    "## Create a coordinate array for storage of the results"
   ]
  },
  {
   "cell_type": "markdown",
   "metadata": {},
   "source": [
    "A coordinate array really is just a Darr ragged array (see separate library). This makes it easy to read the data in other environments, e.g. R. We save some metadata so that we later know what we did."
   ]
  },
  {
   "cell_type": "code",
   "execution_count": 9,
   "metadata": {
    "collapsed": true
   },
   "outputs": [],
   "source": [
    "coords = bw.create_coordarray('testcoords.darr', \n",
    "                              videofile=vf, \n",
    "                              metadata={'bgsparams': bgs.get_params(),\n",
    "                                        'movdetectparams': movementdector.get_params()},\n",
    "                              overwrite=True)"
   ]
  },
  {
   "cell_type": "code",
   "execution_count": 10,
   "metadata": {},
   "outputs": [
    {
     "data": {
      "text/plain": [
       "{'bgsparams': {'BackgroundRatio': 0.10000000149011612, 'ComplexityReductionThreshold': 0.05000000074505806, 'History': 5, 'NMixtures': 8, 'ShadowThreshold': 0.5, 'ShadowValue': 127, 'VarInit': 15.0, 'VarMax': 75.0, 'VarMin': 4.0, 'VarThreshold': 70.0, 'VarThresholdGen': 9.0, 'class': \"<class 'birdwatcher.movementdetection.BackgroundSubtractorMOG2'>\"}, 'birdwatcher_version': '0.1.0+66.g026ec11.dirty', 'movdetectparams': {'class': \"<class 'birdwatcher.movementdetection.MovementDetector'>\", 'downscale': None, 'focus_rectcoord': None, 'ignore_firstnframes': 0, 'ignore_rectcoord': None, 'learningrate': -1, 'morphologyex': 2}, 'video': {'duration': 19.88, 'filename': 'zf20s_low.mp4', 'format': 0.0, 'fourcc': 'avc1', 'framecount': 497, 'framerate': 25.0, 'height': 720, 'shape': [1280, 720], 'width': 1280}}"
      ]
     },
     "execution_count": 10,
     "metadata": {},
     "output_type": "execute_result"
    }
   ],
   "source": [
    "coords.metadata"
   ]
  },
  {
   "cell_type": "markdown",
   "metadata": {},
   "source": [
    "## Now find changes in background of video based on what we have so far"
   ]
  },
  {
   "cell_type": "markdown",
   "metadata": {},
   "source": [
    "We just loop over the video object's frames and feed it to the movement detector. The `apply` method will return two arrays. The first, `thresh` is an image where background is 0 and foreground (change/movement) is 1. The second, `idx`, is an aray with the positions (x,y) of the foreground pixels. The latter is nice for saving to file (coords array) because it is smaller. We use the jupyter `%%time` operator to see how long it takes to run this cell."
   ]
  },
  {
   "cell_type": "code",
   "execution_count": 11,
   "metadata": {},
   "outputs": [
    {
     "name": "stdout",
     "output_type": "stream",
     "text": [
      "CPU times: user 30.5 s, sys: 3.46 s, total: 33.9 s\n",
      "Wall time: 5.91 s\n"
     ]
    }
   ],
   "source": [
    "%%time\n",
    "for frame in vf.iter_frames():\n",
    "    thresh, idx = movementdector.apply(frame)\n",
    "    coords.append(idx)"
   ]
  },
  {
   "cell_type": "markdown",
   "metadata": {},
   "source": [
    "## Create a video of the results for easy inspection"
   ]
  },
  {
   "cell_type": "code",
   "execution_count": 12,
   "metadata": {},
   "outputs": [
    {
     "name": "stdout",
     "output_type": "stream",
     "text": [
      "CPU times: user 771 ms, sys: 327 ms, total: 1.1 s\n",
      "Wall time: 3.04 s\n"
     ]
    }
   ],
   "source": [
    "%%time\n",
    "coords.tovideo('testcoords.mp4')"
   ]
  },
  {
   "cell_type": "markdown",
   "metadata": {},
   "source": [
    "## Take it together and look at a range of parameters"
   ]
  },
  {
   "cell_type": "markdown",
   "metadata": {},
   "source": [
    "As an example we'll look at a range of history settings."
   ]
  },
  {
   "cell_type": "code",
   "execution_count": 13,
   "metadata": {},
   "outputs": [
    {
     "name": "stdout",
     "output_type": "stream",
     "text": [
      "CPU times: user 1min 52s, sys: 15.7 s, total: 2min 8s\n",
      "Wall time: 35.4 s\n"
     ]
    }
   ],
   "source": [
    "%%time\n",
    "vf = bw.testvideosmall()\n",
    "for history in (2,3,4,5):\n",
    "    bgs = bw.BackgroundSubtractorMOG2(History=history, VarThreshold=50)\n",
    "    movementdector = bw.MovementDetector(bgsubtractor=bgs, morphologyex=2)\n",
    "    basefilename = f'testcoords_hist{history}'\n",
    "    coords = bw.create_coordarray(f'{basefilename}.darr', \n",
    "                                  videofile=vf, \n",
    "                                  metadata={'bgsparams': bgs.get_params(),\n",
    "                                            'bgstype': 'MOG2'},\n",
    "                                  overwrite=True)\n",
    "    for frame in vf.iter_frames():\n",
    "        thresh, idx = movementdector.apply(frame)\n",
    "        coords.append(idx)\n",
    "    coords.tovideo(f'{basefilename}.mp4')"
   ]
  }
 ],
 "metadata": {
  "kernelspec": {
   "display_name": "Python 3",
   "language": "python",
   "name": "python3"
  },
  "language_info": {
   "codemirror_mode": {
    "name": "ipython",
    "version": 3
   },
   "file_extension": ".py",
   "mimetype": "text/x-python",
   "name": "python",
   "nbconvert_exporter": "python",
   "pygments_lexer": "ipython3",
   "version": "3.6.3"
  }
 },
 "nbformat": 4,
 "nbformat_minor": 2
}
